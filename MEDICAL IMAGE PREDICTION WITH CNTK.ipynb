{
 "cells": [
  {
   "cell_type": "code",
   "execution_count": 30,
   "metadata": {},
   "outputs": [],
   "source": [
    "# Import the relevant modules to be used later\n",
    "from __future__ import print_function\n",
    "import gzip\n",
    "import matplotlib.image as mpimg\n",
    "import matplotlib.pyplot as plt\n",
    "import numpy as np\n",
    "import os\n",
    "import shutil\n",
    "import struct\n",
    "import sys\n",
    "import sys\n",
    "import time\n",
    "import seaborn\n",
    "from tqdm import tqdm\n",
    "import cv2\n",
    "\n",
    "try: \n",
    "    from urllib.request import urlretrieve \n",
    "except ImportError: \n",
    "    from urllib import urlretrieve\n",
    "\n",
    "# Config matplotlib for inline plotting\n",
    "%matplotlib inline"
   ]
  },
  {
   "cell_type": "code",
   "execution_count": 31,
   "metadata": {},
   "outputs": [],
   "source": [
    "import cntk as C\n",
    "import cntk.tests.test_utils\n",
    "cntk.tests.test_utils.set_device_from_pytest_env() # (only needed for our build system)\n",
    "C.cntk_py.set_fixed_random_seed(1) # fix a random seed for CNTK components"
   ]
  },
  {
   "cell_type": "code",
   "execution_count": 35,
   "metadata": {},
   "outputs": [],
   "source": [
    "# Functions to load MNIST images and unpack into train and test set.\n",
    "\n",
    "def loadData(url):\n",
    "    #Load the training images\n",
    "    from PIL import Image, ImageOps\n",
    "\n",
    "    import glob\n",
    "    image_list = []\n",
    "    for filename in glob.glob(url):\n",
    "        im=Image.open(filename)\n",
    "        im_numpy = np.array(im)\n",
    "        image_list.append(im_numpy.flatten())\n",
    "        im.close()\n",
    "    return image_list\n",
    "\n",
    "def loadLabels(url):\n",
    "    import pandas as pd\n",
    "\n",
    "    labels = pd.read_csv(url)\n",
    "\n",
    "    labels = labels['orientation']\n",
    "    lbs = np.array(labels).reshape(labels.shape[0], 1)\n",
    "    return lbs\n",
    "\n",
    "def try_download(dataSrc, labelsSrc):\n",
    "    data = loadData(dataSrc)\n",
    "    labels = loadLabels(labelsSrc)\n",
    "    return np.hstack((data, labels))\n"
   ]
  },
  {
   "cell_type": "code",
   "execution_count": 4,
   "metadata": {},
   "outputs": [
    {
     "name": "stdout",
     "output_type": "stream",
     "text": [
      "Downloading train data\n",
      "Downloading test data\n"
     ]
    }
   ],
   "source": [
    "# URLs for the train image and labels data\n",
    "url_train_image = 'C:/data-release/train-images/*.png'\n",
    "url_train_labels = 'C:/data-release/train_label.csv'\n",
    "num_train_samples = 20000\n",
    "\n",
    "print(\"Downloading train data\")\n",
    "train = try_download(url_train_image, url_train_labels)\n",
    "\n",
    "\n",
    "url_test_image = 'C:/data-release/test-images/*.png'\n",
    "url_test_labels = url_train_labels\n",
    "num_test_samples = 20000\n",
    "\n",
    "print(\"Downloading test data\")\n",
    "test = try_download(url_test_image, url_test_labels)"
   ]
  },
  {
   "cell_type": "code",
   "execution_count": 5,
   "metadata": {},
   "outputs": [
    {
     "name": "stdout",
     "output_type": "stream",
     "text": [
      "Image Label:  1\n"
     ]
    },
    {
     "data": {
      "image/png": "[encoded data removed]",
      "text/plain": [
       "<Figure size 432x288 with 1 Axes>"
      ]
     },
     "metadata": {},
     "output_type": "display_data"
    }
   ],
   "source": [
    "# Plot a random image\n",
    "sample_number = 0\n",
    "plt.imshow(train[sample_number,:-1].reshape(64,64), cmap=\"gray_r\")\n",
    "plt.axis('off')\n",
    "print(\"Image Label: \", train[sample_number,-1])"
   ]
  },
  {
   "cell_type": "code",
   "execution_count": 36,
   "metadata": {},
   "outputs": [],
   "source": [
    "# Save the data files into a format compatible with CNTK text reader\n",
    "def savetxt(filename, ndarray):\n",
    "    dir = os.path.dirname(filename)\n",
    "\n",
    "    if not os.path.exists(dir):\n",
    "        os.makedirs(dir)\n",
    "\n",
    "    if not os.path.isfile(filename):\n",
    "        print(\"Saving\", filename )\n",
    "        with open(filename, 'w') as f:\n",
    "            labels = list(map(' '.join, np.eye(4, dtype=np.uint).astype(str)))\n",
    "            for row in ndarray:\n",
    "                row_str = row.astype(str)\n",
    "                label_str = labels[row[-1]]\n",
    "                feature_str = ' '.join(row_str[:-1])\n",
    "                f.write('|labels {} |features {}\\n'.format(label_str, feature_str))\n",
    "    else:\n",
    "        print(\"File already exists\", filename)"
   ]
  },
  {
   "cell_type": "code",
   "execution_count": 7,
   "metadata": {},
   "outputs": [
    {
     "name": "stdout",
     "output_type": "stream",
     "text": [
      "Writing train text file...\n",
      "File already exists C:/Users/ejiof/Documents/data-release/CNTK/Train-64x64_cntk_text.txt\n",
      "Writing test text file...\n",
      "Saving C:/Users/ejiof/Documents/data-release/CNTK/Test-64x64_cntk_text.txt\n",
      "Done\n"
     ]
    }
   ],
   "source": [
    "# Save the train and test files (prefer our default path for the data)\n",
    "data_dir = \"C:/data-release/CNTK/\"\n",
    "if not os.path.exists(data_dir):\n",
    "    data_dir = os.path.join(\"data\", \"MNIST\")\n",
    "\n",
    "print ('Writing train text file...')\n",
    "savetxt(os.path.join(data_dir, \"Train-64x64_cntk_text.txt\"), train)\n",
    "\n",
    "print ('Writing test text file...')\n",
    "savetxt(os.path.join(data_dir, \"Test-64x64_cntk_text.txt\"), test)\n",
    "\n",
    "print('Done')"
   ]
  },
  {
   "cell_type": "code",
   "execution_count": 37,
   "metadata": {},
   "outputs": [],
   "source": [
    "# Define the data dimensions\n",
    "input_dim_model = (1, 64, 64)    # images are 64 x 64 with 1 channel of color (gray)\n",
    "input_dim = 64*64               # used by readers to treat input data as a vector\n",
    "num_output_classes = 4"
   ]
  },
  {
   "cell_type": "code",
   "execution_count": 38,
   "metadata": {},
   "outputs": [],
   "source": [
    "# Read a CTF formatted text (as mentioned above) using the CTF deserializer from a file\n",
    "def create_reader(path, is_training, input_dim, num_label_classes):\n",
    "\n",
    "    ctf = C.io.CTFDeserializer(path, C.io.StreamDefs(\n",
    "          labels=C.io.StreamDef(field='labels', shape=num_label_classes, is_sparse=False),\n",
    "          features=C.io.StreamDef(field='features', shape=input_dim, is_sparse=False)))\n",
    "\n",
    "    return C.io.MinibatchSource(ctf,\n",
    "        randomize = is_training, max_sweeps = C.io.INFINITELY_REPEAT if is_training else 1)"
   ]
  },
  {
   "cell_type": "code",
   "execution_count": 74,
   "metadata": {},
   "outputs": [
    {
     "name": "stdout",
     "output_type": "stream",
     "text": [
      "Data directory is C:/Users/ejiof/Documents/data-release/CNTK/\n"
     ]
    }
   ],
   "source": [
    "# Ensure the training and test data is available for this tutorial.\n",
    "\n",
    "data_found=False # A flag to indicate if train/test data found in local cache\n",
    "data_dir = \"C:/data-release/CNTK/\"\n",
    "\n",
    "train_file=os.path.join(data_dir, \"Train-64x64_cntk_text.txt\")\n",
    "test_file=os.path.join(data_dir, \"Test-64x64_cntk_text.txt\")\n",
    "\n",
    "if os.path.isfile(train_file) and os.path.isfile(test_file):\n",
    "    data_found=True\n",
    "\n",
    "\n",
    "if not data_found:\n",
    "    raise ValueError(\"Please generate the data by completing CNTK 103 Part A\")\n",
    "\n",
    "print(\"Data directory is {0}\".format(data_dir))"
   ]
  },
  {
   "cell_type": "code",
   "execution_count": 40,
   "metadata": {},
   "outputs": [],
   "source": [
    "x = C.input_variable(input_dim_model)\n",
    "y = C.input_variable(num_output_classes)"
   ]
  },
  {
   "cell_type": "code",
   "execution_count": 41,
   "metadata": {},
   "outputs": [],
   "source": [
    "reader_train = create_reader(train_file, True, input_dim, num_output_classes)\n",
    "reader_test = create_reader(test_file, False, input_dim, num_output_classes)"
   ]
  },
  {
   "cell_type": "code",
   "execution_count": 42,
   "metadata": {},
   "outputs": [],
   "source": [
    "from cntk import load_model\n",
    "from cntk.initializer import he_normal, normal\n",
    "from cntk.layers import AveragePooling, MaxPooling, BatchNormalization, Convolution, Dense\n",
    "from cntk.ops import element_times, relu\n",
    "#\n",
    "# For Training\n",
    "from cntk import cross_entropy_with_softmax, classification_error, reduce_mean\n",
    "from cntk import Trainer, cntk_py\n",
    "from cntk.io import MinibatchSource, ImageDeserializer, StreamDef, StreamDefs\n",
    "from cntk.learners import momentum_sgd, momentum_schedule,  learning_parameter_schedule_per_sample\n",
    "from cntk.debugging import *\n",
    "from cntk.logging import *\n",
    "import cntk.io.transforms as xforms"
   ]
  },
  {
   "cell_type": "code",
   "execution_count": 43,
   "metadata": {},
   "outputs": [
    {
     "name": "stdout",
     "output_type": "stream",
     "text": [
      "The Cognitive Toolkit is using the CPU for processing.\n"
     ]
    }
   ],
   "source": [
    "try:\n",
    "    isUsingGPU # if this is our first time running, this will cause an exception as undefined\n",
    "except NameError:\n",
    "    try:\n",
    "        isUsingGPU = C.device.try_set_default_device(C.device.gpu(0))\n",
    "    except ValueError:\n",
    "        isUsingGPU = False\n",
    "        C.device.try_set_default_device(C.device.cpu())\n",
    "\n",
    "print (\"The Cognitive Toolkit is using the {} for processing.\".format(\"GPU\" if isUsingGPU else \"CPU\"))"
   ]
  },
  {
   "cell_type": "code",
   "execution_count": 44,
   "metadata": {},
   "outputs": [],
   "source": [
    "def conv_bn(input, filter_size, num_filters, strides=(1, 1), init=he_normal(), bn_init_scale=1):\n",
    "    c = Convolution(filter_size, num_filters, activation=None, init=init, pad=True, strides=strides, bias=False)(input)\n",
    "    r = BatchNormalization(map_rank=1, normalization_time_constant=4096, use_cntk_engine=False, init_scale=bn_init_scale, disable_regularization=True)(c)\n",
    "    return r\n",
    "\n",
    "def conv_bn_relu(input, filter_size, num_filters, strides=(1, 1), init=he_normal()):\n",
    "    r = conv_bn(input, filter_size, num_filters, strides, init, 1)\n",
    "    return relu(r)"
   ]
  },
  {
   "cell_type": "code",
   "execution_count": 45,
   "metadata": {},
   "outputs": [],
   "source": [
    "def resnet_basic(input, num_filters):\n",
    "    c1 = conv_bn_relu(input, (3, 3), num_filters)\n",
    "    c2 = conv_bn(c1, (3, 3), num_filters, bn_init_scale=1)\n",
    "    p = c2 + input\n",
    "    return relu(p)\n",
    "\n",
    "def resnet_basic_inc(input, num_filters, strides=(2, 2)):\n",
    "    c1 = conv_bn_relu(input, (3, 3), num_filters, strides)\n",
    "    c2 = conv_bn(c1, (3, 3), num_filters, bn_init_scale=1)\n",
    "    s = conv_bn(input, (1, 1), num_filters, strides) # Shortcut\n",
    "    p = c2 + s\n",
    "    return relu(p)"
   ]
  },
  {
   "cell_type": "code",
   "execution_count": 46,
   "metadata": {},
   "outputs": [],
   "source": [
    "def resnet_basic_stack(input, num_stack_layers, num_filters): \n",
    "    assert(num_stack_layers >= 0)\n",
    "    l = input\n",
    "    for _ in range(num_stack_layers):\n",
    "        l = resnet_basic(l, num_filters)\n",
    "    return l\n",
    "\n",
    "def resnet_bottleneck(input, out_num_filters, inter_out_num_filters):\n",
    "    c1 = conv_bn_relu(input, (1, 1), inter_out_num_filters)\n",
    "    c2 = conv_bn_relu(c1, (3, 3), inter_out_num_filters)\n",
    "    c3 = conv_bn(c2, (1, 1), out_num_filters, bn_init_scale=0)\n",
    "    p = c3 + input\n",
    "    return relu(p)\n",
    "\n",
    "def resnet_bottleneck_inc(input, out_num_filters, inter_out_num_filters, stride1x1, stride3x3):\n",
    "    c1 = conv_bn_relu(input, (1, 1), inter_out_num_filters, strides=stride1x1)\n",
    "    c2 = conv_bn_relu(c1, (3, 3), inter_out_num_filters, strides=stride3x3)\n",
    "    c3 = conv_bn(c2, (1, 1), out_num_filters, bn_init_scale=0)\n",
    "    stride = np.multiply(stride1x1, stride3x3)\n",
    "    s = conv_bn(input, (1, 1), out_num_filters, strides=stride) # Shortcut\n",
    "    p = c3 + s\n",
    "    return relu(p)\n",
    "\n",
    "def resnet_bottleneck_stack(input, num_stack_layers, out_num_filters, inter_out_num_filters): \n",
    "    assert(num_stack_layers >= 0)\n",
    "    l = input\n",
    "    for _ in range(num_stack_layers):\n",
    "        l = resnet_bottleneck(l, out_num_filters, inter_out_num_filters)\n",
    "    return l"
   ]
  },
  {
   "cell_type": "code",
   "execution_count": 47,
   "metadata": {},
   "outputs": [],
   "source": [
    "def create_cifar10_model(input, num_stack_layers, num_classes):\n",
    "    c_map = [16, 32, 64]\n",
    "\n",
    "    conv = conv_bn_relu(input, (3, 3), c_map[0])\n",
    "    r1 = resnet_basic_stack(conv, num_stack_layers, c_map[0])\n",
    "\n",
    "    r2_1 = resnet_basic_inc(r1, c_map[1])\n",
    "    r2_2 = resnet_basic_stack(r2_1, num_stack_layers-1, c_map[1])\n",
    "\n",
    "    r3_1 = resnet_basic_inc(r2_2, c_map[2])\n",
    "    r3_2 = resnet_basic_stack(r3_1, num_stack_layers-1, c_map[2])\n",
    "\n",
    "    # Global average pooling and output\n",
    "    pool = AveragePooling(filter_shape=(8, 8), name='final_avg_pooling')(r3_2)\n",
    "    z = Dense(num_classes, init=normal(0.01))(pool)\n",
    "    return z"
   ]
  },
  {
   "cell_type": "code",
   "execution_count": 48,
   "metadata": {},
   "outputs": [],
   "source": [
    "make_model = True"
   ]
  },
  {
   "cell_type": "code",
   "execution_count": 49,
   "metadata": {},
   "outputs": [],
   "source": [
    "# model dimensions\n",
    "image_height = 64\n",
    "image_width  = 64\n",
    "num_channels = 1 # RGB\n",
    "num_classes  = 4\n",
    "\n",
    "\n",
    "\n",
    "# Input variables denoting the features and label data\n",
    "input_var = C.input_variable((num_channels, image_height, image_width), name='features')\n",
    "label_var = C.input_variable((num_classes))\n",
    "\n",
    "#input1_node = trained_model.find_by_name('input_var')\n",
    "#input2_node = trained_model.find_by_name('label_var')\n",
    "\n",
    "\n",
    "# create model, and configure learning parameters - ResNet20\n",
    "#trained_model = load_model(os.path.join(model_dir, model_file))\n",
    "resnet20_cifar10_model1 = create_cifar10_model(input_var, 3, num_classes)\n",
    "#resnet20_cifar10_model1 = trained_model.clone(C.CloneMethod.clone, {input1_node: input_var, input2_node: label_var}) \n",
    "\n",
    "\n",
    "# loss and metric\n",
    "ce = cross_entropy_with_softmax(resnet20_cifar10_model1, label_var)\n",
    "pe = classification_error(resnet20_cifar10_model1, label_var)"
   ]
  },
  {
   "cell_type": "code",
   "execution_count": 50,
   "metadata": {},
   "outputs": [
    {
     "name": "stdout",
     "output_type": "stream",
     "text": [
      "We're not using a GPU, so we're going to restrict our training for time reasons.\n",
      "We'll be training for 48 epoch with a training set of 20000 elements\n"
     ]
    }
   ],
   "source": [
    "epoch_size = 20000  # number of training examples ...\n",
    "minibatch_size = 128 # examples per mini-batch for training\n",
    "\n",
    "if isUsingGPU:\n",
    "    epochs = 44\n",
    "else:\n",
    "    # these are the settings for CPU-only / Azure Notebooks\n",
    "    # if you have time/patience, consider changing the number of epochs from 1 to 5 and running again\n",
    "    epochs = 48\n",
    "    if make_model:\n",
    "        print(\"We're not using a GPU, so we're going to restrict our training for time reasons.\")\n",
    "        print(\"We'll be training for {} epoch with a training set of {} elements\".format(epochs, epoch_size))\n",
    "        \n",
    "model_dir = 'C:/data-release/Model/'\n",
    "if not model_dir:\n",
    "    model_dir = os.path.join(abs_path, \"Models\")"
   ]
  },
  {
   "cell_type": "code",
   "execution_count": 51,
   "metadata": {},
   "outputs": [],
   "source": [
    "# Train and evaluate the network.\n",
    "def train_and_evaluate(reader_train, reader_test, epoch_size, max_epochs, profiler_dir=None,\n",
    "                       model_dir=None, log_dir=None, tensorboard_logdir=None, gen_heartbeat=False):\n",
    "\n",
    "    set_computation_network_trace_level(0)\n",
    "\n",
    "    # shared training parameters\n",
    "    l2_reg_weight = 0.0001\n",
    "\n",
    "    # Set learning parameters\n",
    "    lr_per_mb = [1.0]*80 + [0.1]*40 + [0.01]\n",
    "    lr_per_sample = [lr/minibatch_size for lr in lr_per_mb]\n",
    "    lr_schedule = learning_parameter_schedule_per_sample(lr_per_sample)\n",
    "    mm_schedule = momentum_schedule(0.9, minibatch_size)\n",
    "\n",
    "    # progress writers\n",
    "    progress_writers = [ProgressPrinter(tag='Training', log_to_file=log_dir, gen_heartbeat=gen_heartbeat)] \n",
    "\n",
    "    # trainer object\n",
    "    learner = momentum_sgd(resnet20_cifar10_model1.parameters, lr_schedule, mm_schedule,\n",
    "                           l2_regularization_weight=l2_reg_weight)\n",
    "    trainer = Trainer(resnet20_cifar10_model1, (ce, pe), learner, progress_writers)\n",
    "\n",
    "    # define mapping from reader streams to network inputs\n",
    "    input_map = {\n",
    "        input_var: reader_train.streams.features,\n",
    "        label_var: reader_train.streams.labels\n",
    "    }\n",
    "\n",
    "    # perform model training\n",
    "    print('[i] Performing training...')\n",
    "    for epoch in range(max_epochs): # loop over epochs\n",
    "        print('[i] Processing epoch {}'.format(epoch),flush=True)\n",
    "        sample_count = 0\n",
    "        pbar = tqdm(total=epoch_size, ascii=True)\n",
    "        while sample_count < epoch_size:  # loop over minibatches in the epoch\n",
    "            current_minibatch_size = min(minibatch_size, epoch_size-sample_count)\n",
    "            data = reader_train.next_minibatch(current_minibatch_size, input_map=input_map) # fetch minibatch.\n",
    "            trainer.train_minibatch(data)                  # update model with it\n",
    "            sample_count += current_minibatch_size         # count samples processed so far\n",
    "            pbar.update(current_minibatch_size)\n",
    "        pbar.close()\n",
    "\n",
    "        trainer.summarize_training_progress()\n",
    "\n",
    "        if model_dir:\n",
    "            resnet20_cifar10_model1.save(os.path.join(model_dir, network_name + \"_{}.dnn\".format(epoch)))\n",
    "\n",
    "    # Evaluation parameters\n",
    "    test_epoch_size = 20000\n",
    "    test_minibatch_size = 16\n",
    "\n",
    "    # process minibatches and evaluate the model\n",
    "    metric_numer = 0\n",
    "    metric_denom = 0\n",
    "    sample_count = 0\n",
    "\n",
    "    print('[i] Evaluating model...', flush=True)\n",
    "    pbar = tqdm(total=test_epoch_size, ascii=True)\n",
    "    while sample_count < test_epoch_size:\n",
    "        current_minibatch_size = min(test_minibatch_size, test_epoch_size - sample_count)\n",
    "        # Fetch next test min batch.\n",
    "        data = reader_test.next_minibatch(current_minibatch_size, input_map=input_map)\n",
    "        # minibatch data to be trained with\n",
    "        metric_numer += trainer.test_minibatch(data) * current_minibatch_size\n",
    "        metric_denom += current_minibatch_size\n",
    "        # Keep track of the number of samples processed so far.\n",
    "        sample_count += data[label_var].num_samples\n",
    "        pbar.update(current_minibatch_size)\n",
    "    pbar.close()\n",
    "\n",
    "    print(\"\")\n",
    "    trainer.summarize_test_progress()\n",
    "    print(\"\")\n",
    "\n",
    "    return resnet20_cifar10_model1\n"
   ]
  },
  {
   "cell_type": "code",
   "execution_count": 52,
   "metadata": {},
   "outputs": [
    {
     "name": "stdout",
     "output_type": "stream",
     "text": [
      "make_model is true, so performing training...\n",
      "Creating minibatch source for training...\n",
      "Creating minibatch source for testing...\n"
     ]
    },
    {
     "name": "stderr",
     "output_type": "stream",
     "text": [
      "C:\\Users\\ejiof\\Anaconda3\\lib\\site-packages\\cntk\\learners\\__init__.py:340: RuntimeWarning: When providing the schedule as a number, epoch_size is ignored\n",
      "  warnings.warn('When providing the schedule as a number, epoch_size is ignored', RuntimeWarning)\n"
     ]
    },
    {
     "name": "stdout",
     "output_type": "stream",
     "text": [
      "[i] Performing training...\n",
      "[i] Processing epoch 0\n"
     ]
    },
    {
     "name": "stderr",
     "output_type": "stream",
     "text": [
      "\r",
      "  0%|          | 0/20000 [00:00<?, ?it/s]"
     ]
    },
    {
     "name": "stdout",
     "output_type": "stream",
     "text": [
      "Learning rate per 1 samples: 0.0078125\n",
      "Momentum per minibatch: 0.9\n"
     ]
    },
    {
     "name": "stderr",
     "output_type": "stream",
     "text": [
      "100%|##########| 20000/20000 [18:39<00:00, 19.11it/s]\n"
     ]
    },
    {
     "name": "stdout",
     "output_type": "stream",
     "text": [
      "Finished Epoch[1]: [Training] loss = 3.304870 * 20000, metric = 54.45% * 20000 1119.788s ( 17.9 samples/s);\n",
      "[i] Processing epoch 1\n"
     ]
    },
    {
     "name": "stderr",
     "output_type": "stream",
     "text": [
      "100%|##########| 20000/20000 [16:12<00:00, 19.30it/s]\n"
     ]
    },
    {
     "name": "stdout",
     "output_type": "stream",
     "text": [
      "Finished Epoch[2]: [Training] loss = 0.944120 * 20000, metric = 40.14% * 20000 972.682s ( 20.6 samples/s);\n",
      "[i] Processing epoch 2\n"
     ]
    },
    {
     "name": "stderr",
     "output_type": "stream",
     "text": [
      "100%|##########| 20000/20000 [16:16<00:00, 19.20it/s]\n"
     ]
    },
    {
     "name": "stdout",
     "output_type": "stream",
     "text": [
      "Finished Epoch[3]: [Training] loss = 0.891184 * 20000, metric = 35.67% * 20000 976.639s ( 20.5 samples/s);\n",
      "[i] Processing epoch 3\n"
     ]
    },
    {
     "name": "stderr",
     "output_type": "stream",
     "text": [
      "100%|##########| 20000/20000 [16:09<00:00, 18.86it/s]\n"
     ]
    },
    {
     "name": "stdout",
     "output_type": "stream",
     "text": [
      "Finished Epoch[4]: [Training] loss = 0.915902 * 20000, metric = 35.78% * 20000 969.999s ( 20.6 samples/s);\n",
      "[i] Processing epoch 4\n"
     ]
    },
    {
     "name": "stderr",
     "output_type": "stream",
     "text": [
      "100%|##########| 20000/20000 [16:14<00:00, 18.32it/s]\n"
     ]
    },
    {
     "name": "stdout",
     "output_type": "stream",
     "text": [
      "Finished Epoch[5]: [Training] loss = 0.807554 * 20000, metric = 29.75% * 20000 974.512s ( 20.5 samples/s);\n",
      "[i] Processing epoch 5\n"
     ]
    },
    {
     "name": "stderr",
     "output_type": "stream",
     "text": [
      "100%|##########| 20000/20000 [16:06<00:00, 17.49it/s]\n"
     ]
    },
    {
     "name": "stdout",
     "output_type": "stream",
     "text": [
      "Finished Epoch[6]: [Training] loss = 0.701453 * 20000, metric = 23.76% * 20000 966.124s ( 20.7 samples/s);\n",
      "[i] Processing epoch 6\n"
     ]
    },
    {
     "name": "stderr",
     "output_type": "stream",
     "text": [
      "100%|##########| 20000/20000 [16:05<00:00, 19.67it/s]\n"
     ]
    },
    {
     "name": "stdout",
     "output_type": "stream",
     "text": [
      "Finished Epoch[7]: [Training] loss = 0.499696 * 20000, metric = 17.20% * 20000 965.308s ( 20.7 samples/s);\n",
      "[i] Processing epoch 7\n"
     ]
    },
    {
     "name": "stderr",
     "output_type": "stream",
     "text": [
      "100%|##########| 20000/20000 [16:03<00:00, 19.30it/s]\n"
     ]
    },
    {
     "name": "stdout",
     "output_type": "stream",
     "text": [
      "Finished Epoch[8]: [Training] loss = 0.401092 * 20000, metric = 13.64% * 20000 963.582s ( 20.8 samples/s);\n",
      "[i] Processing epoch 8\n"
     ]
    },
    {
     "name": "stderr",
     "output_type": "stream",
     "text": [
      "100%|##########| 20000/20000 [16:06<00:00, 18.31it/s]\n"
     ]
    },
    {
     "name": "stdout",
     "output_type": "stream",
     "text": [
      "Finished Epoch[9]: [Training] loss = 0.313386 * 20000, metric = 10.66% * 20000 966.342s ( 20.7 samples/s);\n",
      "[i] Processing epoch 9\n"
     ]
    },
    {
     "name": "stderr",
     "output_type": "stream",
     "text": [
      "100%|##########| 20000/20000 [17:22<00:00, 18.33it/s]\n"
     ]
    },
    {
     "name": "stdout",
     "output_type": "stream",
     "text": [
      "Finished Epoch[10]: [Training] loss = 0.236800 * 20000, metric = 8.19% * 20000 1042.891s ( 19.2 samples/s);\n",
      "[i] Processing epoch 10\n"
     ]
    },
    {
     "name": "stderr",
     "output_type": "stream",
     "text": [
      "100%|##########| 20000/20000 [18:25<00:00, 11.13it/s]\n"
     ]
    },
    {
     "name": "stdout",
     "output_type": "stream",
     "text": [
      "Finished Epoch[11]: [Training] loss = 0.191680 * 20000, metric = 6.26% * 20000 1106.141s ( 18.1 samples/s);\n",
      "[i] Processing epoch 11\n"
     ]
    },
    {
     "name": "stderr",
     "output_type": "stream",
     "text": [
      "100%|##########| 20000/20000 [17:18<00:00, 19.05it/s]\n"
     ]
    },
    {
     "name": "stdout",
     "output_type": "stream",
     "text": [
      "Finished Epoch[12]: [Training] loss = 0.144052 * 20000, metric = 4.42% * 20000 1038.682s ( 19.3 samples/s);\n",
      "[i] Processing epoch 12\n"
     ]
    },
    {
     "name": "stderr",
     "output_type": "stream",
     "text": [
      "100%|##########| 20000/20000 [16:55<00:00, 17.11it/s]\n"
     ]
    },
    {
     "name": "stdout",
     "output_type": "stream",
     "text": [
      "Finished Epoch[13]: [Training] loss = 0.122218 * 20000, metric = 3.90% * 20000 1015.308s ( 19.7 samples/s);\n",
      "[i] Processing epoch 13\n"
     ]
    },
    {
     "name": "stderr",
     "output_type": "stream",
     "text": [
      "100%|##########| 20000/20000 [16:48<00:00, 18.47it/s]\n"
     ]
    },
    {
     "name": "stdout",
     "output_type": "stream",
     "text": [
      "Finished Epoch[14]: [Training] loss = 0.084703 * 20000, metric = 2.69% * 20000 1008.337s ( 19.8 samples/s);\n",
      "[i] Processing epoch 14\n"
     ]
    },
    {
     "name": "stderr",
     "output_type": "stream",
     "text": [
      "100%|##########| 20000/20000 [16:35<00:00, 17.96it/s]\n"
     ]
    },
    {
     "name": "stdout",
     "output_type": "stream",
     "text": [
      "Finished Epoch[15]: [Training] loss = 0.063654 * 20000, metric = 2.04% * 20000 995.062s ( 20.1 samples/s);\n",
      "[i] Processing epoch 15\n"
     ]
    },
    {
     "name": "stderr",
     "output_type": "stream",
     "text": [
      "100%|##########| 20000/20000 [16:38<00:00, 18.80it/s]\n"
     ]
    },
    {
     "name": "stdout",
     "output_type": "stream",
     "text": [
      "Finished Epoch[16]: [Training] loss = 0.045593 * 20000, metric = 1.43% * 20000 998.394s ( 20.0 samples/s);\n",
      "[i] Processing epoch 16\n"
     ]
    },
    {
     "name": "stderr",
     "output_type": "stream",
     "text": [
      "100%|##########| 20000/20000 [16:37<00:00, 17.75it/s]\n"
     ]
    },
    {
     "name": "stdout",
     "output_type": "stream",
     "text": [
      "Finished Epoch[17]: [Training] loss = 0.045774 * 20000, metric = 1.35% * 20000 997.245s ( 20.1 samples/s);\n",
      "[i] Processing epoch 17\n"
     ]
    },
    {
     "name": "stderr",
     "output_type": "stream",
     "text": [
      "100%|##########| 20000/20000 [16:17<00:00, 18.96it/s]\n"
     ]
    },
    {
     "name": "stdout",
     "output_type": "stream",
     "text": [
      "Finished Epoch[18]: [Training] loss = 0.043561 * 20000, metric = 1.24% * 20000 977.414s ( 20.5 samples/s);\n",
      "[i] Processing epoch 18\n"
     ]
    },
    {
     "name": "stderr",
     "output_type": "stream",
     "text": [
      "100%|##########| 20000/20000 [16:13<00:00, 18.93it/s]\n"
     ]
    },
    {
     "name": "stdout",
     "output_type": "stream",
     "text": [
      "Finished Epoch[19]: [Training] loss = 0.029084 * 20000, metric = 0.91% * 20000 973.143s ( 20.6 samples/s);\n",
      "[i] Processing epoch 19\n"
     ]
    },
    {
     "name": "stderr",
     "output_type": "stream",
     "text": [
      "100%|##########| 20000/20000 [16:24<00:00, 18.93it/s]\n"
     ]
    },
    {
     "name": "stdout",
     "output_type": "stream",
     "text": [
      "Finished Epoch[20]: [Training] loss = 0.025283 * 20000, metric = 0.79% * 20000 985.000s ( 20.3 samples/s);\n",
      "[i] Processing epoch 20\n"
     ]
    },
    {
     "name": "stderr",
     "output_type": "stream",
     "text": [
      "100%|##########| 20000/20000 [16:34<00:00, 19.81it/s]\n"
     ]
    },
    {
     "name": "stdout",
     "output_type": "stream",
     "text": [
      "Finished Epoch[21]: [Training] loss = 0.021067 * 20000, metric = 0.64% * 20000 994.119s ( 20.1 samples/s);\n",
      "[i] Processing epoch 21\n"
     ]
    },
    {
     "name": "stderr",
     "output_type": "stream",
     "text": [
      "100%|##########| 20000/20000 [15:59<00:00, 19.68it/s]\n"
     ]
    },
    {
     "name": "stdout",
     "output_type": "stream",
     "text": [
      "Finished Epoch[22]: [Training] loss = 0.021629 * 20000, metric = 0.68% * 20000 959.266s ( 20.8 samples/s);\n",
      "[i] Processing epoch 22\n"
     ]
    },
    {
     "name": "stderr",
     "output_type": "stream",
     "text": [
      "100%|##########| 20000/20000 [15:58<00:00, 19.66it/s]\n"
     ]
    },
    {
     "name": "stdout",
     "output_type": "stream",
     "text": [
      "Finished Epoch[23]: [Training] loss = 0.021561 * 20000, metric = 0.67% * 20000 958.456s ( 20.9 samples/s);\n",
      "[i] Processing epoch 23\n"
     ]
    },
    {
     "name": "stderr",
     "output_type": "stream",
     "text": [
      "100%|##########| 20000/20000 [16:18<00:00, 19.01it/s]\n"
     ]
    },
    {
     "name": "stdout",
     "output_type": "stream",
     "text": [
      "Finished Epoch[24]: [Training] loss = 0.019305 * 20000, metric = 0.53% * 20000 978.108s ( 20.4 samples/s);\n",
      "[i] Processing epoch 24\n"
     ]
    },
    {
     "name": "stderr",
     "output_type": "stream",
     "text": [
      "100%|##########| 20000/20000 [16:04<00:00, 19.94it/s]\n"
     ]
    },
    {
     "name": "stdout",
     "output_type": "stream",
     "text": [
      "Finished Epoch[25]: [Training] loss = 0.016206 * 20000, metric = 0.46% * 20000 964.721s ( 20.7 samples/s);\n",
      "[i] Processing epoch 25\n"
     ]
    },
    {
     "name": "stderr",
     "output_type": "stream",
     "text": [
      "100%|##########| 20000/20000 [16:03<00:00, 19.06it/s]\n"
     ]
    },
    {
     "name": "stdout",
     "output_type": "stream",
     "text": [
      "Finished Epoch[26]: [Training] loss = 0.015356 * 20000, metric = 0.44% * 20000 963.838s ( 20.8 samples/s);\n",
      "[i] Processing epoch 26\n"
     ]
    },
    {
     "name": "stderr",
     "output_type": "stream",
     "text": [
      "100%|##########| 20000/20000 [16:04<00:00, 18.69it/s]\n"
     ]
    },
    {
     "name": "stdout",
     "output_type": "stream",
     "text": [
      "Finished Epoch[27]: [Training] loss = 0.021184 * 20000, metric = 0.66% * 20000 964.154s ( 20.7 samples/s);\n",
      "[i] Processing epoch 27\n"
     ]
    },
    {
     "name": "stderr",
     "output_type": "stream",
     "text": [
      "100%|##########| 20000/20000 [15:59<00:00, 18.32it/s]\n"
     ]
    },
    {
     "name": "stdout",
     "output_type": "stream",
     "text": [
      "Finished Epoch[28]: [Training] loss = 0.010310 * 20000, metric = 0.34% * 20000 959.932s ( 20.8 samples/s);\n",
      "[i] Processing epoch 28\n"
     ]
    },
    {
     "name": "stderr",
     "output_type": "stream",
     "text": [
      "100%|##########| 20000/20000 [16:08<00:00, 19.25it/s]\n"
     ]
    },
    {
     "name": "stdout",
     "output_type": "stream",
     "text": [
      "Finished Epoch[29]: [Training] loss = 0.010731 * 20000, metric = 0.33% * 20000 962.041s ( 20.8 samples/s);\n",
      "[i] Processing epoch 29\n"
     ]
    },
    {
     "name": "stderr",
     "output_type": "stream",
     "text": [
      "100%|##########| 20000/20000 [16:00<00:00, 19.60it/s]\n"
     ]
    },
    {
     "name": "stdout",
     "output_type": "stream",
     "text": [
      "Finished Epoch[30]: [Training] loss = 0.007968 * 20000, metric = 0.25% * 20000 960.608s ( 20.8 samples/s);\n",
      "[i] Processing epoch 30\n"
     ]
    },
    {
     "name": "stderr",
     "output_type": "stream",
     "text": [
      "100%|##########| 20000/20000 [15:57<00:00, 18.82it/s]\n"
     ]
    },
    {
     "name": "stdout",
     "output_type": "stream",
     "text": [
      "Finished Epoch[31]: [Training] loss = 0.017307 * 20000, metric = 0.47% * 20000 957.727s ( 20.9 samples/s);\n",
      "[i] Processing epoch 31\n"
     ]
    },
    {
     "name": "stderr",
     "output_type": "stream",
     "text": [
      "100%|##########| 20000/20000 [16:19<00:00, 18.93it/s]\n"
     ]
    },
    {
     "name": "stdout",
     "output_type": "stream",
     "text": [
      "Finished Epoch[32]: [Training] loss = 0.045320 * 20000, metric = 1.27% * 20000 979.353s ( 20.4 samples/s);\n",
      "[i] Processing epoch 32\n"
     ]
    },
    {
     "name": "stderr",
     "output_type": "stream",
     "text": [
      "100%|##########| 20000/20000 [16:05<00:00, 18.81it/s]\n"
     ]
    },
    {
     "name": "stdout",
     "output_type": "stream",
     "text": [
      "Finished Epoch[33]: [Training] loss = 0.026037 * 20000, metric = 0.75% * 20000 965.188s ( 20.7 samples/s);\n",
      "[i] Processing epoch 33\n"
     ]
    },
    {
     "name": "stderr",
     "output_type": "stream",
     "text": [
      "100%|##########| 20000/20000 [16:03<00:00, 16.97it/s]\n"
     ]
    },
    {
     "name": "stdout",
     "output_type": "stream",
     "text": [
      "Finished Epoch[34]: [Training] loss = 0.015896 * 20000, metric = 0.42% * 20000 963.470s ( 20.8 samples/s);\n",
      "[i] Processing epoch 34\n"
     ]
    },
    {
     "name": "stderr",
     "output_type": "stream",
     "text": [
      "100%|##########| 20000/20000 [16:01<00:00, 19.42it/s]\n"
     ]
    },
    {
     "name": "stdout",
     "output_type": "stream",
     "text": [
      "Finished Epoch[35]: [Training] loss = 0.013974 * 20000, metric = 0.40% * 20000 961.123s ( 20.8 samples/s);\n",
      "[i] Processing epoch 35\n"
     ]
    },
    {
     "name": "stderr",
     "output_type": "stream",
     "text": [
      "100%|##########| 20000/20000 [16:07<00:00, 19.59it/s]\n"
     ]
    },
    {
     "name": "stdout",
     "output_type": "stream",
     "text": [
      "Finished Epoch[36]: [Training] loss = 0.010576 * 20000, metric = 0.28% * 20000 967.900s ( 20.7 samples/s);\n",
      "[i] Processing epoch 36\n"
     ]
    },
    {
     "name": "stderr",
     "output_type": "stream",
     "text": [
      "100%|##########| 20000/20000 [16:02<00:00, 19.63it/s]\n"
     ]
    },
    {
     "name": "stdout",
     "output_type": "stream",
     "text": [
      "Finished Epoch[37]: [Training] loss = 0.009703 * 20000, metric = 0.27% * 20000 962.307s ( 20.8 samples/s);\n",
      "[i] Processing epoch 37\n"
     ]
    },
    {
     "name": "stderr",
     "output_type": "stream",
     "text": [
      "100%|##########| 20000/20000 [15:59<00:00, 19.77it/s]\n"
     ]
    },
    {
     "name": "stdout",
     "output_type": "stream",
     "text": [
      "Finished Epoch[38]: [Training] loss = 0.007633 * 20000, metric = 0.24% * 20000 959.497s ( 20.8 samples/s);\n",
      "[i] Processing epoch 38\n"
     ]
    },
    {
     "name": "stderr",
     "output_type": "stream",
     "text": [
      "100%|##########| 20000/20000 [15:58<00:00, 19.19it/s]\n"
     ]
    },
    {
     "name": "stdout",
     "output_type": "stream",
     "text": [
      "Finished Epoch[39]: [Training] loss = 0.009002 * 20000, metric = 0.28% * 20000 958.872s ( 20.9 samples/s);\n",
      "[i] Processing epoch 39\n"
     ]
    },
    {
     "name": "stderr",
     "output_type": "stream",
     "text": [
      "100%|##########| 20000/20000 [16:01<00:00, 19.89it/s]\n"
     ]
    },
    {
     "name": "stdout",
     "output_type": "stream",
     "text": [
      "Finished Epoch[40]: [Training] loss = 0.014819 * 20000, metric = 0.44% * 20000 962.000s ( 20.8 samples/s);\n",
      "[i] Processing epoch 40\n"
     ]
    },
    {
     "name": "stderr",
     "output_type": "stream",
     "text": [
      "100%|##########| 20000/20000 [16:01<00:00, 18.57it/s]\n"
     ]
    },
    {
     "name": "stdout",
     "output_type": "stream",
     "text": [
      "Finished Epoch[41]: [Training] loss = 0.008327 * 20000, metric = 0.18% * 20000 961.185s ( 20.8 samples/s);\n",
      "[i] Processing epoch 41\n"
     ]
    },
    {
     "name": "stderr",
     "output_type": "stream",
     "text": [
      "100%|##########| 20000/20000 [16:03<00:00, 16.97it/s]\n"
     ]
    },
    {
     "name": "stdout",
     "output_type": "stream",
     "text": [
      "Finished Epoch[42]: [Training] loss = 0.005921 * 20000, metric = 0.18% * 20000 963.274s ( 20.8 samples/s);\n",
      "[i] Processing epoch 42\n"
     ]
    },
    {
     "name": "stderr",
     "output_type": "stream",
     "text": [
      "100%|##########| 20000/20000 [15:58<00:00, 18.84it/s]\n"
     ]
    },
    {
     "name": "stdout",
     "output_type": "stream",
     "text": [
      "Finished Epoch[43]: [Training] loss = 0.006139 * 20000, metric = 0.19% * 20000 958.238s ( 20.9 samples/s);\n",
      "[i] Processing epoch 43\n"
     ]
    },
    {
     "name": "stderr",
     "output_type": "stream",
     "text": [
      "100%|##########| 20000/20000 [16:04<00:00, 16.64it/s]\n"
     ]
    },
    {
     "name": "stdout",
     "output_type": "stream",
     "text": [
      "Finished Epoch[44]: [Training] loss = 0.059448 * 20000, metric = 1.49% * 20000 964.332s ( 20.7 samples/s);\n",
      "[i] Processing epoch 44\n"
     ]
    },
    {
     "name": "stderr",
     "output_type": "stream",
     "text": [
      "100%|##########| 20000/20000 [16:03<00:00, 19.35it/s]\n"
     ]
    },
    {
     "name": "stdout",
     "output_type": "stream",
     "text": [
      "Finished Epoch[45]: [Training] loss = 0.023994 * 20000, metric = 0.73% * 20000 963.566s ( 20.8 samples/s);\n",
      "[i] Processing epoch 45\n"
     ]
    },
    {
     "name": "stderr",
     "output_type": "stream",
     "text": [
      "100%|##########| 20000/20000 [16:05<00:00, 19.52it/s]\n"
     ]
    },
    {
     "name": "stdout",
     "output_type": "stream",
     "text": [
      "Finished Epoch[46]: [Training] loss = 0.022491 * 20000, metric = 0.65% * 20000 965.659s ( 20.7 samples/s);\n",
      "[i] Processing epoch 46\n"
     ]
    },
    {
     "name": "stderr",
     "output_type": "stream",
     "text": [
      "100%|##########| 20000/20000 [15:56<00:00, 19.79it/s]\n"
     ]
    },
    {
     "name": "stdout",
     "output_type": "stream",
     "text": [
      "Finished Epoch[47]: [Training] loss = 0.010763 * 20000, metric = 0.29% * 20000 956.524s ( 20.9 samples/s);\n",
      "[i] Processing epoch 47\n"
     ]
    },
    {
     "name": "stderr",
     "output_type": "stream",
     "text": [
      "100%|##########| 20000/20000 [16:31<00:00, 17.17it/s]\n"
     ]
    },
    {
     "name": "stdout",
     "output_type": "stream",
     "text": [
      "Finished Epoch[48]: [Training] loss = 0.012536 * 20000, metric = 0.36% * 20000 991.358s ( 20.2 samples/s);\n",
      "[i] Evaluating model...\n"
     ]
    },
    {
     "name": "stderr",
     "output_type": "stream",
     "text": [
      "100%|##########| 20000/20000 [04:33<00:00, 89.24it/s]\n"
     ]
    },
    {
     "name": "stdout",
     "output_type": "stream",
     "text": [
      "\n",
      "Finished Evaluation [1]: Minibatch[1-1250]: metric = 18.29% * 20000;\n",
      "\n",
      "The model took 47322.9061 seconds to train\n",
      "Saving the model as >>LocallyTrained_ResNet_20_Medical1_CNTK.model<<\n"
     ]
    }
   ],
   "source": [
    "if make_model:\n",
    "    model_file = 'LocallyTrained_ResNet_20_Medical1_CNTK.model'\n",
    "    print(\"make_model is true, so performing training...\")\n",
    "    print(\"Creating minibatch source for training...\", flush=True)\n",
    "    reader_train = create_reader(train_file, True, input_dim, num_output_classes)\n",
    "    print(\"Creating minibatch source for testing...\", flush=True)\n",
    "    reader_test = create_reader(train_file, True, input_dim, num_output_classes)\n",
    "\n",
    "    startTime = time.time()\n",
    "    trained_model = train_and_evaluate(reader_train, reader_test, epoch_size, epochs)\n",
    "    endTime = time.time()\n",
    "    \n",
    "    print(\"The model took {:.4f} seconds to train\".format(endTime - startTime))\n",
    "    print(\"Saving the model as >>{}<<\".format(model_file))\n",
    "    \n",
    "    resnet20_cifar10_model1.save(os.path.join(model_dir, model_file))\n",
    "else:\n",
    "    model_file = 'ResNet_20_CIFAR10_CNTK.model'\n",
    "    print(\"make_model is false, so skipping training...\")"
   ]
  },
  {
   "cell_type": "code",
   "execution_count": 70,
   "metadata": {},
   "outputs": [],
   "source": [
    "#resnet20_cifar10_model1.save(os.path.join(model_dir, model_file))\n",
    "model_dir = 'C:/data-release/Model/'\n",
    "data_dir = 'C:/data-release/CNTKFormat/'\n",
    "model_file = 'LocallyTrained_ResNet_20_medical1_CNTK.model'\n",
    "resnet20_cifar10_model1 = load_model(os.path.join(model_dir, model_file))"
   ]
  },
  {
   "cell_type": "code",
   "execution_count": 71,
   "metadata": {},
   "outputs": [],
   "source": [
    "out = C.softmax(resnet20_cifar10_model1)"
   ]
  },
  {
   "cell_type": "code",
   "execution_count": 72,
   "metadata": {},
   "outputs": [],
   "source": [
    "test_file=os.path.join(data_dir, \"Test-64x64_cntk_text.txt\")"
   ]
  },
  {
   "cell_type": "code",
   "execution_count": null,
   "metadata": {},
   "outputs": [],
   "source": [
    "# Read the data for evaluation\n",
    "reader_eval=create_reader(test_file, False, input_dim, num_output_classes)\n",
    "\n",
    "eval_minibatch_size = 20000\n",
    "eval_input_map = {x: reader_eval.streams.features, y:reader_eval.streams.labels}\n",
    "\n",
    "data = reader_eval.next_minibatch(eval_minibatch_size, input_map=eval_input_map)\n",
    "\n",
    "img_label = data[y].asarray()\n",
    "img_data = data[x].asarray()\n",
    "\n",
    "# reshape img_data to: M x 1 x 64 x 64 to be compatible with model\n",
    "img_data = np.reshape(img_data, (eval_minibatch_size, 1, 64, 64))\n",
    "#plt.imshow(image_list[1].reshape(64,64))\n",
    "#img_data = img_data.reshape(64, 64)\n",
    "#img_data = img_data.reshape((img_data.shape[0],) + input_var.shape[1:])\n",
    "\n",
    "predicted_label_prob = [out.eval(img_data[i]) for i in range(len(img_data))]"
   ]
  },
  {
   "cell_type": "code",
   "execution_count": 57,
   "metadata": {},
   "outputs": [],
   "source": [
    "pred = [np.argmax(predicted_label_prob[i]) for i in range(len(predicted_label_prob))]\n",
    "gtlabel = [np.argmax(img_label[i]) for i in range(len(img_label))]"
   ]
  },
  {
   "cell_type": "code",
   "execution_count": 58,
   "metadata": {},
   "outputs": [
    {
     "name": "stdout",
     "output_type": "stream",
     "text": [
      "Label    : [1, 2, 1, 1, 2, 3, 3, 2, 0, 2, 2, 3, 3, 1, 0, 2, 0, 0, 1, 1, 3, 3, 2, 2, 2, 0, 3, 0, 2, 2, 2, 3, 1, 2, 1]\n"
     ]
    },
    {
     "name": "stdout",
     "output_type": "stream",
     "text": [
      "Predicted: [3, 3, 3, 2, 3, 3, 1, 0, 1, 0, 2, 0, 3, 0, 3, 1, 3, 3, 3, 3, 0, 2, 0, 3, 0, 3, 2, 3, 2, 2, 3, 3, 2, 3, 0, 3, 3, 2, 3, 2, 0, 3, 3, 3, 3, 2, 3, 3, 0, 3, 3, 2, 2, 0, 3, 3, 1, 0, 0, 3, 2, 3, 3, 2, 3, 2, 3, 0, 2, 3, 2, 2, 2, 3, 3, 1, 2, 3, 3, 3, 3, 3, 0, 3, 3, 1, 3, 1, 3, 3, 3, 3, 3, 3, 0, 2, 3, 3, 0, 2, 3, 0, 3, 3, 2, 0, 2, 3, 3, 3, 2, 3, 3, 3, 1, 3, 1, 0, 2, 0, 0, 3, 2, 3, 3, 0, 2, 1, 1, 2, 3, 2, 3, 0, 3, 3, 2, 1, 0, 1, 2, 3, 2, 2, 3, 2, 2, 0, 2, 3, 3, 3, 1, 3, 0, 1, 3, 3, 0, 3, 0, 2, 0, 2, 2, 0, 3, 0, 2, 2, 3, 3, 3, 3, 3, 3, 3, 1, 1, 2, 3, 2, 3, 3, 1, 3, 2, 0, 2, 3, 1, 0, 2, 2, 3, 1, 3, 2, 1, 0, 3, 0, 3, 1, 3, 2, 3, 0, 0, 1, 1, 2, 2, 0, 0, 3, 0, 0, 3, 0, 0, 3, 3, 2, 3, 3, 2, 0, 0, 0, 1, 2, 2, 3, 3, 3, 2, 0, 3, 0, 3, 3, 3, 1, 3, 3, 1, 0, 3, 1, 3, 2, 3, 3, 1, 0, 0, 3, 3, 1, 3, 3, 0, 1, 3, 3, 0, 2, 3, 2, 3, 1, 3, 0, 1, 1, 2, 3, 2, 1, 3, 2, 0, 3, 1, 3, 3, 3, 3, 3, 0, 2, 3, 3, 3, 1, 0, 1, 2, 3, 3, 2, 3, 1, 2, 3, 3, 3, 0, 1, 3, 2, 3, 3, 3, 3, 2, 3, 2, 0, 2, 0, 2, 2, 3, 1, 3, 3, 0, 0, 2, 1, 2, 2, 2, 1, 3, 3, 0, 3, 1, 1, 3, 2, 1, 3, 2, 3, 2, 1, 0, 0, 2, 3, 2, 2, 2, 2, 3, 0, 2, 3, 2, 2, 3, 3, 2, 0, 2, 2, 2, 2, 3, 2, 3, 3, 3, 1, 3, 2, 3, 1, 3, 2, 2, 1, 2, 3, 3, 0, 3, 2, 0, 3, 2, 3, 0, 3, 0, 2, 3, 1, 1, 2, 1, 3, 3, 3, 3, 0, 3, 2, 2, 1, 2, 1, 3, 2, 3, 1, 2, 3, 2, 0, 2, 3, 2, 2, 2, 3, 3, 3, 2, 3, 2, 3, 3, 0, 2, 2, 0, 1, 1, 3, 2, 0, 1, 3, 0, 3, 3, 0, 0, 0, 3, 1, 2, 2, 3, 3, 3, 0, 1, 3, 2, 3, 0, 1, 3, 2, 2, 1, 0, 3, 2, 2, 3, 2, 2, 3, 0, 2, 3, 3, 2, 2, 2, 2, 1, 3, 1, 2, 3, 3, 3, 3, 1, 1, 3, 3, 1, 2, 3, 2, 1, 3, 0, 1, 3, 2, 3, 2, 2, 3, 3, 1, 3, 3, 3, 0, 1, 3, 3, 3, 1, 3, 2, 2, 2, 3, 2, 2, 2, 1, 2, 3, 3, 2, 0, 3, 1, 2, 3, 0, 2, 3, 2, 0, 0, 0, 2, 0, 2, 0, 2, 3, 0, 2, 3, 0, 3, 2, 3, 1, 3, 1, 0, 1, 3, 3, 3, 2, 0, 3, 3, 3, 0, 2, 0, 0, 3, 3, 0, 3, 3, 1, 0, 0, 0, 1, 1, 3, 0, 0, 3, 0, 0, 0, 3, 3, 2, 2, 0, 2, 3, 3, 3, 2, 3, 3, 1, 2, 2, 0, 3, 3, 3, 3, 2, 0, 3, 0, 0, 1, 1, 2, 3, 0, 2, 3, 3, 1, 3, 3, 3, 2, 2, 0, 3, 0, 0, 3, 0, 0, 0, 2, 0, 2, 0, 0, 1, 1, 0, 0, 0, 0, 1, 2, 2, 0, 0, 1, 3, 2, 0, 0, 3, 3, 0, 2, 3, 3, 0, 3, 3, 0, 3, 2, 1, 2, 2, 3, 3, 0, 1, 3, 2, 3, 1, 2, 3, 3, 0, 2, 2, 0, 2, 2, 0, 0, 3, 1, 0, 3, 3, 0, 2, 2, 2, 0, 2, 3, 1, 0, 3, 2, 1, 2, 2, 2, 2, 0, 0, 1, 2, 0, 1, 3, 0, 1, 3, 3, 2, 1, 3, 2, 0, 3, 1, 0, 2, 3, 2, 3, 0, 3, 3, 1, 0, 3, 0, 2, 2, 3, 2, 3, 3, 2, 3, 0, 3, 1, 1, 3, 0, 3, 3, 3, 3, 2, 0, 0, 3, 1, 3, 1, 3, 0, 2, 2, 1, 2, 3, 0, 3, 3, 1, 3, 3, 3, 0, 3, 0, 1, 3, 3, 2, 3, 3, 3, 3, 1, 1, 2, 1, 1, 2, 2, 2, 0, 3, 2, 2, 2, 0, 0, 2, 0, 0, 3, 1, 0, 2, 3, 3, 2, 0, 3, 2, 0, 3, 3, 3, 1, 1, 1, 3, 3, 3, 2, 3, 1, 3, 3, 3, 0, 3, 0, 3, 3, 2, 3, 2, 3, 2, 3, 2, 3, 1, 0, 3, 3, 3, 3, 3, 3, 2, 2, 1, 0, 3, 3, 2, 3, 0, 3, 3, 2, 3, 3, 3, 0, 2, 2, 0, 1, 0, 3, 2, 0, 2, 3, 2, 2, 0, 2, 1, 2, 3, 0, 3, 3, 3, 1, 3, 3, 0, 2, 2, 1, 3, 2, 3, 3, 2, 3, 0, 3, 0, 1, 2, 3, 3, 1, 0, 2, 3, 3, 2, 1, 2, 3, 3, 1, 2, 0, 2, 3, 2, 2, 2, 3, 3, 2, 0, 3, 2, 0, 2, 2, 0, 3, 3, 3, 2, 3, 3, 2, 3, 0, 2, 3, 3, 3, 2, 2, 0, 0, 3, 3, 2, 0, 3, 2, 3, 1, 0, 0, 3, 3, 2, 3, 3, 2, 0, 3, 3, 2, 0, 2, 1, 3, 1, 0, 3, 3, 2, 0, 0, 2, 0, 2, 2, 3, 3, 3, 2, 3, 2, 2, 2, 3, 3, 3, 3, 3, 3, 3, 1, 3, 3, 3, 1, 3, 3, 0, 0, 0, 2, 0, 1, 3, 3, 3, 3, 3, 3, 3, 3, 0, 3, 0, 1, 1, 3, 2, 3, 1, 2, 3, 3, 1, 3, 2, 1, 3, 3, 3, 3, 0, 2, 3, 2, 2, 2, 1, 3, 3, 3, 3, 3, 3, 2, 0, 2, 0, 1, 0, 3, 0, 1, 3, 1, 3, 2, 2, 1, 0, 3, 2, 3, 3, 2, 3, 1, 3, 3, 2, 2, 3, 2, 3, 1, 1, 0, 2, 2, 3, 2, 3, 2, 2, 3, 1, 0, 3, 1, 3, 3, 3, 3, 3, 2, 3, 1, 2, 0, 3, 0, 2, 0, 0, 3, 3, 3, 0, 1, 3, 1, 2, 3, 2, 2, 3, 3, 2, 3, 0, 3, 0, 1, 3, 3, 3, 3, 3, 0, 0, 0, 3, 3, 0, 0, 2, 2, 0, 3, 2, 1, 2, 0, 2, 2, 0, 1, 2, 2, 2, 3, 0, 2, 3, 2, 2, 0, 2, 3, 2, 3, 2, 0, 2, 0, 0, 0, 1, 3, 2, 0, 0, 1, 0, 1, 0, 3, 0, 3, 3, 3, 3, 0, 2, 1, 2, 2, 3, 3, 1, 3, 1, 2, 2, 1, 2, 0, 1, 3, 2, 3, 2, 3, 2, 1, 3, 3, 2, 2, 3, 0, 0, 2, 1, 1, 3, 0, 0, 3, 3, 0, 3, 2, 1, 1, 2, 2, 0, 3, 3, 0, 2, 1, 0, 2, 3, 0, 3, 2, 2, 3, 1, 2, 2, 2, 2, 3, 3, 3, 2, 3, 3, 3, 3, 3, 3, 2, 1, 1, 0, 3, 2, 3, 3, 2, 1, 2, 3, 1, 2, 3, 0, 2, 2, 3, 2, 2, 0, 2, 1, 3, 3, 0, 1, 1, 3, 0, 0, 1, 1, 3, 3, 2, 2, 2, 2, 0, 3, 2, 2, 3, 3, 3, 3, 1, 2, 1, 3, 2, 3, 2, 3, 3, 2, 1, 1, 2, 2, 0, 1, 1, 3, 3, 3, 3, 0, 3, 3, 3, 0, 3, 0, 1, 3, 2, 1, 0, 2, 3, 0, 0, 1, 0, 1, 3, 3, 0, 2, 1, 3, 0, 0, 3, 2, 1, 3, 1, 1, 0, 3, 2, 0, 2, 2, 3, 3, 3, 3, 2, 3, 2, 2, 0, 1, 3, 1, 0, 0, 3, 2, 2, 3, 3, 0, 2, 3, 2, 1, 0, 3, 2, 2, 2, 2, 3, 3, 2, 2, 2, 3, 2, 0, 3, 3, 3, 0, 3, 0, 3, 2, 1, 3, 1, 0, 2, 2, 0, 0, 3, 3, 0, 1, 3, 0, 0, 1, 0, 0, 3, 0, 2, 2, 3, 3, 1, 3, 0, 1, 0, 2, 3, 3, 1, 0, 3, 0, 1, 2, 2, 3, 1, 1, 2, 3, 0, 2, 2, 3, 3, 2, 2, 0, 3, 3, 3, 3, 3, 3, 3, 3, 0, 0, 0, 3, 3, 3, 0, 1, 2, 3, 2, 3, 2, 1, 3, 3, 2, 3, 3, 3, 0, 2, 3, 3, 2, 2, 3, 2, 2, 3, 1, 3, 3, 3, 3, 1, 0, 2, 2, 3, 1, 3, 0, 3, 3, 0, 0, 0, 0, 2, 3, 3, 2, 2, 0, 1, 2, 0, 3, 1, 3, 2, 3, 3, 1, 0, 2, 2, 0, 0, 1, 1, 3, 1, 3, 3, 3, 3, 2, 3, 3, 2, 3, 1, 3, 3, 1, 1, 0, 3, 0, 2, 0, 3, 0, 2, 2, 3, 3, 3, 2, 2, 3, 3, 0, 3, 2, 3, 3, 3, 0, 3, 2, 1, 0, 3, 3, 0, 3, 3, 2, 0, 2, 3, 3, 2, 3, 2, 3, 1, 2, 2, 3, 1, 0, 3, 3, 1, 3, 2, 0, 2, 3, 0, 3, 3, 0, 1, 1, 3, 3, 3, 3, 2, 3, 2, 0, 3, 0, 0, 3, 1, 0, 3, 2, 3, 3, 3, 3, 3, 0, 1, 2, 3, 0, 3, 3, 3, 3, 0, 0, 3, 1, 0, 2, 0, 3, 3, 0, 3, 3, 0, 2, 2, 2, 3, 3, 3, 3, 3, 3, 3, 3, 2, 0, 3, 3, 3, 1, 0, 2, 2, 3, 3, 2, 0, 3, 3, 1, 3, 0, 2, 2, 0, 3, 3, 0, 3, 3, 1, 3, 2, 0, 0, 2, 0, 3, 3, 2, 3, 1, 0, 2, 1, 1, 2, 2, 2, 1, 2, 2, 0, 2, 3, 0, 0, 0, 3, 0, 2, 0, 3, 2, 2, 2, 3, 0, 1, 3, 3, 2, 2, 2, 3, 3, 3, 1, 2, 2, 2, 0, 3, 2, 3, 2, 3, 0, 0, 3, 2, 3, 3, 2, 3, 3, 2, 3, 0, 1, 0, 2, 0, 2, 2, 2, 3, 3, 3, 3, 2, 2, 1, 3, 1, 2, 3, 3, 3, 0, 3, 3, 3, 3, 2, 3, 3, 2, 3, 1, 0, 3, 3, 1, 2, 0, 3, 3, 0, 0, 0, 3, 2, 3, 2, 1, 2, 2, 3, 2, 3, 0, 1, 3, 0, 3, 1, 0, 3, 3, 3, 3, 0, 2, 2, 3, 0, 3, 2, 3, 3, 2, 3, 3, 1, 1, 0, 3, 0, 2, 2, 3, 2, 2, 3, 0, 2, 2, 1, 2, 0, 2, 0, 1, 1, 1, 3, 3, 2, 3, 1, 3, 0, 0, 0, 1, 2, 2, 3, 2, 3, 3, 2, 2, 2, 3, 3, 3, 2, 3, 0, 0, 2, 3, 3, 3, 0, 1, 0, 1, 2, 2, 0, 1, 2, 3, 2, 2, 3, 0, 3, 3, 1, 3, 0, 3, 0, 2, 2, 2, 3, 3, 0, 2, 3, 3, 2, 1, 1, 0, 3, 3, 3, 3, 2, 0, 3, 1, 0, 2, 0, 2, 3, 3, 1, 1, 3, 0, 0, 3, 2, 1, 2, 3, 3, 1, 3, 0, 2, 2, 2, 3, 3, 0, 3, 0, 0, 3, 2, 3, 3, 0, 3, 3, 3, 1, 1, 3, 3, 2, 1, 3, 0, 3, 2, 3, 3, 0, 1, 3, 3, 0, 3, 2, 2, 3, 3, 3, 2, 3, 3, 1, 2, 3, 3, 1, 2, 3, 3, 3, 3, 2, 3, 0, 2, 2, 2, 2, 0, 0, 1, 3, 2, 2, 2, 2, 2, 0, 2, 1, 0, 3, 2, 3, 1, 1, 3, 0, 3, 0, 1, 2, 3, 3, 1, 3, 2, 0, 0, 0, 2, 3, 1, 0, 1, 1, 3, 3, 3, 2, 0, 3, 3, 1, 2, 0, 3, 2, 3, 2, 3, 0, 3, 2, 3, 0, 1, 3, 3, 0, 1, 2, 3, 2, 3, 3, 1, 2, 2, 3, 1, 3, 0, 3, 2, 3, 0, 2, 3, 3, 2, 3, 3, 3, 3, 3, 2, 3, 0, 2, 3, 3, 0, 2, 2, 3, 0, 3, 3, 0, 3, 3, 0, 0, 3, 3, 3, 2, 3, 1, 2, 3, 3, 3, 2, 3, 3, 0, 3, 3, 3, 3, 3, 0, 0, 2, 3, 2, 2, 3, 3, 2, 2, 3, 2, 2, 1, 3, 3, 2, 1, 0, 2, 1, 3, 0, 3, 3, 0, 2, 2, 3, 1, 2, 1, 1, 0, 2, 3, 1, 0, 3, 1, 0, 2, 2, 3, 3, 2, 3, 3, 3, 2, 0, 3, 3, 3, 3, 3, 2, 3, 3, 2, 0, 3, 3, 2, 3, 3, 1, 1, 2, 2, 3, 2, 0, 2, 0, 3, 3, 3, 1, 3, 3, 1, 3, 0, 2, 3, 1, 0, 0, 3, 2, 2, 3, 2, 2, 0, 3, 3, 3, 1, 2, 2, 3, 1, 3, 3, 3, 1, 2, 2, 3, 3, 3, 2, 2, 2, 2, 1, 3, 2, 2, 2, 2, 3, 2, 3, 2, 2, 1, 2, 0, 0, 3, 0, 0, 3, 2, 3, 3, 2, 3, 2, 2, 3, 1, 2, 0, 0, 3, 1, 2, 3, 0, 1, 3, 0, 1, 0, 2, 3, 2, 3, 2, 2, 0, 0, 3, 3, 0, 0, 0, 1, 0, 1, 3, 3, 2, 2, 3, 3, 2, 3, 3, 1, 2, 2, 2, 2, 3, 3, 3, 1, 3, 0, 0, 1, 2, 3, 3, 3, 3, 3, 0, 0, 0, 3, 0, 2, 1, 3, 1, 1, 0, 3, 3, 3, 3, 1, 0, 0, 0, 2, 3, 0, 2, 2, 3, 2, 2, 3, 0, 3, 1, 3, 3, 3, 2, 2, 2, 3, 2, 3, 2, 2, 3, 2, 3, 3, 3, 3, 3, 3, 3, 3, 2, 3, 3, 3, 2, 3, 3, 1, 2, 3, 3, 3, 2, 1, 1, 3, 3, 2, 1, 3, 3, 3, 3, 2, 2, 3, 3, 2, 2, 3, 2, 1, 3, 3, 3, 0, 0, 2, 3, 0, 1, 2, 2, 1, 3, 3, 0, 0, 1, 2, 3, 1, 3, 0, 1, 3, 2, 3, 3, 1, 3, 2, 3, 0, 1, 2, 0, 2, 0, 3, 1, 3, 2, 2, 1, 0, 1, 0, 3, 0, 2, 3, 3, 2, 0, 3, 3, 3, 0, 1, 1, 2, 1, 3, 3, 1, 3, 3, 3, 2, 1, 3, 3, 2, 3, 2, 3, 1, 2, 3, 1, 2, 3, 3, 2, 3, 2, 1, 3, 2, 2, 1, 1, 3, 2, 3, 0, 1, 2, 2, 3, 2, 2, 2, 1, 2, 3, 1, 2, 2, 0, 3, 3, 2, 3, 3, 0, 0, 2, 0, 3, 1, 1, 1, 3, 3, 0, 1, 3, 3, 1, 3, 3, 2, 0, 1, 2, 2, 0, 3, 2, 3, 0, 1, 0, 2, 1, 2, 2, 3, 0, 3, 3, 2, 2, 0, 1, 2, 3, 3, 3, 1, 3, 2, 2, 0, 1, 0, 0, 1, 2, 3, 3, 0, 0, 3, 2, 0, 2, 3, 1, 2, 0, 3, 2, 1, 2, 2, 0, 2, 3, 2, 1, 2, 1, 2, 3, 0, 3, 2, 2, 3, 0, 3, 2, 3, 0, 3, 1, 1, 3, 0, 2, 2, 0, 0, 3, 3, 3, 3, 3, 2, 2, 3, 2, 3, 2, 2, 2, 2, 2, 1, 1, 0, 3, 3, 3, 3, 2, 1, 3, 3, 1, 3, 1, 2, 2, 3, 3, 2, 3, 3, 2, 1, 3, 3, 2, 1, 2, 3, 3, 3, 0, 0, 0, 3, 2, 2, 0, 2, 0, 2, 3, 2, 3, 2, 2, 3, 3, 2, 0, 0, 2, 3, 3, 2, 3, 3, 2, 2, 2, 3, 2, 3, 1, 3, 3, 0, 3, 2, 1, 0, 1, 3, 3, 2, 1, 3, 1, 3, 3, 2, 3, 0, 2, 0, 2, 1, 1, 0, 2, 2, 0, 2, 2, 3, 0, 1, 3, 3, 2, 1, 3, 2, 2, 2, 3, 0, 0, 0, 2, 2, 2, 2, 3, 2, 3, 3, 3, 2, 2, 2, 0, 3, 3, 3, 2, 0, 2, 2, 0, 3, 3, 3, 3, 3, 1, 1, 3, 3, 3, 3, 3, 3, 3, 2, 1, 3, 3, 0, 0, 2, 2, 3, 2, 0, 3, 0, 3, 2, 3, 3, 3, 3, 3, 3, 1, 2, 2, 0, 0, 3, 0, 0, 1, 0, 3, 3, 0, 0, 2, 2, 2, 1, 0, 3, 3, 2, 3, 1, 3, 1, 0, 2, 3, 1, 3, 0, 0, 3, 0, 3, 2, 2, 2, 1, 3, 3, 3, 0, 3, 2, 1, 1, 0, 0, 2, 2, 0, 2, 3, 0, 3, 0, 1, 2, 0, 0, 3, 2, 2, 1, 2, 0, 3, 3, 1, 3, 3, 2, 0, 3, 2, 0, 3, 3, 3, 2, 3, 3, 0, 2, 2, 3, 1, 0, 1, 3, 3, 0, 2, 3, 0, 0, 3, 3, 3, 2, 3, 2, 3, 2, 3, 1, 0, 2, 1, 0, 2, 3, 3, 3, 0, 1, 3, 2, 2, 3, 3, 2, 3, 2, 0, 3, 3, 3, 2, 3, 0, 2, 1, 0, 1, 3, 2, 3, 0, 0, 0, 2, 0, 3, 3, 0, 2, 0, 3, 2, 2, 1, 2, 3, 1, 0, 0, 3, 2, 2, 3, 3, 1, 2, 3, 3, 2, 1, 2, 2, 3, 0, 0, 2, 2, 1, 2, 2, 3, 0, 3, 0, 3, 0, 2, 2, 3, 3, 3, 3, 2, 2, 1, 3, 3, 2, 3, 3, 2, 1, 0, 0, 0, 3, 2, 2, 0, 1, 3, 3, 3, 1, 0, 3, 2, 2, 2, 2, 1, 3, 0, 2, 0, 0, 1, 2, 3, 3, 2, 0, 3, 3, 2, 3, 2, 2, 1, 3, 0, 3, 0, 2, 3, 2, 2, 0, 2, 2, 2, 0, 2, 3, 3, 2, 3, 0, 3, 3, 1, 1, 3, 2, 3, 0, 3, 2, 2, 3, 2, 1, 3, 3, 3, 2, 2, 3, 2, 2, 3, 2, 1, 3, 3, 2, 2, 1, 3, 3, 0, 3, 3, 1, 2, 3, 3, 3, 2, 3, 1, 3, 2, 3, 3, 0, 3, 1, 1, 1, 1, 2, 1, 3, 0, 2, 3, 3, 0, 3, 3, 2, 2, 1, 3, 2, 2, 3, 2, 3, 3, 0, 3, 2, 2, 3, 2, 3, 2, 0, 2, 3, 0, 3, 3, 2, 3, 0, 1, 0, 0, 2, 3, 2, 2, 3, 1, 3, 0, 2, 2, 3, 1, 3, 0, 0, 0, 3, 2, 3, 3, 1, 1, 2, 0, 2, 1, 2, 1, 0, 0, 0, 3, 2, 2, 3, 0, 3, 2, 3, 0, 2, 2, 0, 3, 3, 3, 3, 0, 2, 2, 2, 1, 3, 3, 3, 3, 2, 0, 2, 2, 3, 0, 3, 3, 3, 3, 3, 3, 1, 3, 3, 2, 3, 3, 3, 0, 2, 3, 2, 0, 3, 2, 0, 3, 2, 2, 2, 3, 2, 2, 3, 3, 3, 3, 3, 0, 2, 1, 3, 3, 2, 2, 3, 3, 3, 1, 2, 3, 0, 3, 1, 1, 2, 0, 0, 0, 3, 3, 2, 0, 3, 3, 2, 2, 2, 3, 3, 2, 3, 3, 2, 0, 2, 1, 2, 0, 3, 2, 2, 2, 0, 1, 3, 0, 3, 1, 2, 3, 0, 3, 3, 1, 2, 2, 2, 1, 3, 2, 0, 2, 3, 3, 2, 3, 3, 1, 0, 2, 3, 0, 1, 2, 3, 0, 2, 2, 2, 3, 2, 3, 1, 3, 3, 3, 2, 0, 3, 0, 1, 1, 0, 0, 1, 3, 0, 2, 3, 1, 2, 0, 2, 0, 3, 3, 3, 2, 1, 0, 0, 3, 3, 1, 3, 2, 1, 0, 3, 3, 3, 3, 1, 1, 2, 1, 0, 1, 0, 3, 2, 0, 1, 0, 1, 3, 2, 2, 0, 3, 1, 1, 0, 1, 3, 3, 1, 1, 2, 3, 3, 2, 3, 0, 2, 0, 2, 2, 2, 3, 3, 1, 2, 0, 2, 2, 2, 3, 2, 3, 1, 3, 0, 2, 3, 3, 3, 3, 1, 0, 2, 3, 3, 3, 0, 3, 3, 2, 3, 2, 0, 2, 1, 2, 2, 3, 0, 0, 3, 3, 3, 0, 3, 0, 2, 3, 2, 0, 2, 2, 1, 2, 2, 1, 2, 2, 2, 3, 3, 0, 0, 2, 2, 3, 2, 3, 3, 0, 0, 3, 2, 3, 3, 3, 2, 3, 0, 3, 3, 3, 2, 3, 3, 2, 2, 0, 2, 3, 0, 3, 1, 1, 2, 2, 0, 2, 0, 1, 0, 0, 2, 0, 3, 3, 2, 3, 2, 2, 3, 3, 0, 1, 2, 2, 3, 2, 2, 3, 3, 3, 0, 0, 3, 3, 0, 3, 0, 0, 0, 3, 3, 3, 3, 3, 0, 3, 0, 3, 2, 2, 2, 3, 3, 3, 3, 3, 0, 1, 1, 3, 2, 3, 2, 3, 0, 2, 2, 1, 1, 1, 3, 0, 2, 3, 3, 3, 1, 0, 0, 3, 3, 3, 2, 3, 3, 3, 0, 0, 2, 3, 0, 3, 3, 3, 3, 0, 0, 2, 2, 2, 3, 2, 2, 3, 2, 3, 2, 0, 2, 2, 0, 3, 1, 3, 0, 3, 0, 3, 3, 2, 3, 1, 3, 3, 3, 2, 2, 3, 3, 2, 2, 3, 1, 3, 1, 3, 0, 3, 1, 2, 3, 0, 2, 3, 2, 3, 2, 1, 3, 0, 3, 1, 3, 3, 1, 3, 1, 3, 3, 1, 1, 3, 3, 2, 1, 1, 3, 0, 2, 3, 0, 2, 0, 3, 3, 2, 1, 3, 3, 1, 3, 2, 3, 1, 3, 3, 3, 2, 0, 0, 3, 0, 2, 3, 3, 3, 0, 3, 0, 3, 2, 2, 0, 0, 0, 0, 2, 2, 2, 3, 3, 3, 3, 0, 2, 0, 0, 0, 3, 2, 3, 3, 3, 3, 0, 3, 1, 0, 3, 3, 2, 3, 2, 3, 2, 3, 2, 0, 2, 3, 2, 2, 1, 2, 0, 1, 3, 3, 0, 3, 3, 2, 3, 2, 1, 3, 1, 0, 3, 2, 3, 3, 3, 2, 3, 1, 2, 3, 2, 3, 3, 2, 2, 3, 1, 3, 3, 0, 2, 0, 0, 3, 2, 3, 3, 0, 2, 3, 3, 3, 3, 2, 3, 1, 1, 2, 2, 1, 0, 2, 1, 1, 3, 1, 1, 0, 3, 1, 2, 1, 2, 3, 0, 0, 3, 3, 1, 2, 3, 3, 2, 2, 1, 2, 1, 2, 3, 0, 0, 2, 0, 3, 0, 1, 0, 2, 0, 3, 2, 3, 3, 1, 1, 0, 2, 2, 2, 2, 0, 1, 1, 1, 2, 3, 2, 2, 0, 2, 0, 2, 2, 3, 3, 3, 3, 3, 0, 0, 1, 3, 3, 2, 0, 2, 3, 2, 2, 0, 3, 0, 3, 2, 2, 3, 3, 0, 3, 0, 3, 0, 2, 3, 3, 3, 1, 0, 3, 3, 3, 1, 1, 3, 1, 2, 1, 3, 3, 2, 2, 3, 3, 0, 2, 3, 3, 2, 3, 3, 2, 2, 2, 0, 0, 0, 2, 2, 0, 2, 3, 1, 0, 1, 0, 0, 1, 3, 3, 3, 3, 2, 1, 3, 2, 2, 2, 3, 0, 3, 3, 2, 3, 0, 2, 2, 3, 0, 3, 0, 3, 0, 3, 3, 2, 0, 3, 2, 1, 2, 2, 3, 1, 0, 3, 3, 3, 0, 3, 3, 0, 2, 3, 3, 1, 2, 3, 0, 3, 2, 3, 2, 1, 0, 1, 1, 3, 3, 3, 3, 0, 3, 3, 3, 2, 2, 2, 0, 3, 0, 2, 3, 0, 2, 1, 3, 2, 2, 3, 3, 3, 2, 3, 2, 3, 3, 2, 2, 3, 0, 3, 3, 0, 1, 2, 1, 0, 2, 0, 2, 1, 2, 2, 3, 3, 2, 2, 2, 1, 3, 2, 0, 1, 2, 3, 3, 0, 3, 3, 0, 1, 0, 3, 0, 2, 2, 2, 2, 2, 3, 3, 3, 2, 2, 2, 3, 2, 1, 0, 2, 0, 0, 0, 2, 3, 1, 2, 1, 2, 3, 2, 1, 3, 2, 3, 3, 2, 3, 1, 3, 2, 3, 0, 2, 3, 3, 2, 2, 0, 3, 2, 2, 2, 2, 2, 2, 2, 2, 0, 2, 0, 2, 0, 2, 2, 0, 1, 1, 2, 2, 2, 2, 3, 0, 3, 3, 2, 3, 1, 3, 3, 0, 3, 3, 2, 3, 2, 3, 3, 3, 3, 1, 3, 2, 2, 0, 0, 3, 3, 2, 3, 2, 3, 1, 2, 3, 3, 2, 1, 2, 2, 3, 3, 2, 3, 2, 2, 2, 2, 2, 2, 3, 2, 0, 3, 2, 0, 0, 2, 2, 0, 1, 3, 1, 3, 2, 3, 2, 3, 2, 2, 3, 3, 1, 3, 3, 3, 2, 3, 3, 0, 2, 2, 3, 3, 2, 3, 1, 3, 0, 3, 3, 2, 2, 0, 1, 2, 2, 0, 3, 1, 2, 3, 0, 0, 3, 3, 0, 2, 0, 3, 3, 0, 1, 3, 0, 0, 2, 0, 3, 3, 0, 1, 0, 3, 2, 0, 2, 3, 0, 0, 3, 2, 3, 2, 2, 3, 0, 3, 3, 3, 2, 2, 0, 2, 2, 0, 3, 3, 0, 2, 3, 3, 1, 3, 1, 2, 3, 0, 2, 1, 3, 0, 2, 1, 3, 3, 3, 2, 0, 0, 2, 0, 0, 0, 2, 3, 1, 3, 2, 2, 3, 3, 0, 3, 1, 1, 0, 3, 2, 2, 2, 3, 1, 0, 3, 3, 2, 1, 0, 3, 0, 2, 2, 3, 1, 2, 3, 3, 1, 2, 1, 1, 2, 3, 1, 0, 0, 3, 3, 0, 1, 3, 2, 1, 3, 2, 3, 3, 3, 1, 0, 0, 2, 1, 3, 3, 3, 1, 2, 1, 3, 0, 3, 2, 3, 2, 2, 0, 0, 0, 0, 2, 3, 3, 1, 3, 3, 0, 2, 0, 0, 0, 0, 3, 0, 2, 2, 3, 3, 1, 3, 2, 0, 3, 2, 0, 2, 1, 3, 3, 2, 3, 0, 3, 2, 2, 2, 2, 2, 3, 3, 2, 0, 2, 3, 2, 2, 2, 1, 0, 0, 3, 3, 1, 3, 1, 1, 2, 1, 2, 0, 2, 0, 0, 1, 2, 0, 2, 2, 3, 3, 1, 2, 3, 2, 3, 2, 1, 2, 0, 3, 3, 3, 0, 0, 0, 3, 2, 2, 3, 2, 0, 3, 1, 3, 0, 3, 3, 2, 0, 3, 1, 3, 0, 0, 3, 3, 3, 3, 2, 2, 3, 3, 0, 0, 2, 3, 3, 2, 0, 0, 1, 0, 1, 0, 3, 2, 3, 1, 1, 1, 0, 1, 2, 0, 3, 0, 3, 3, 3, 0, 3, 2, 2, 3, 2, 0, 0, 2, 2, 0, 2, 1, 3, 3, 3, 0, 2, 3, 0, 3, 0, 3, 2, 3, 3, 1, 3, 3, 3, 3, 2, 3, 0, 2, 3, 2, 2, 3, 2, 2, 3, 3, 2, 2, 3, 3, 3, 3, 0, 2, 0, 3, 3, 3, 3, 0, 2, 2, 2, 3, 2, 2, 3, 0, 3, 3, 2, 3, 1, 2, 0, 0, 0, 3, 1, 0, 3, 1, 2, 1, 2, 3, 3, 0, 0, 1, 3, 3, 3, 3, 2, 1, 3, 2, 2, 2, 0, 0, 1, 0, 3, 0, 3, 2, 1, 1, 1, 2, 3, 1, 0, 0, 0, 3, 1, 3, 3, 3, 2, 1, 2, 2, 1, 3, 2, 2, 1, 3, 3, 3, 3, 2, 1, 2, 2, 2, 0, 3, 3, 3, 3, 2, 2, 2, 3, 3, 3, 1, 0, 3, 3, 0, 3, 3, 2, 3, 3, 3, 3, 0, 3, 1, 0, 3, 3, 2, 3, 2, 2, 0, 3, 1, 2, 0, 1, 3, 3, 2, 2, 2, 3, 3, 2, 2, 1, 0, 3, 2, 3, 3, 0, 1, 2, 3, 1, 2, 2, 3, 3, 3, 3, 3, 2, 1, 2, 3, 0, 3, 2, 2, 3, 3, 1, 1, 3, 2, 0, 1, 3, 3, 0, 2, 0, 3, 2, 2, 2, 2, 2, 3, 0, 2, 3, 1, 0, 3, 0, 3, 3, 2, 0, 0, 1, 1, 0, 2, 2, 3, 3, 2, 3, 3, 2, 3, 3, 3, 0, 3, 3, 0, 2, 3, 1, 3, 0, 0, 3, 0, 0, 0, 0, 3, 3, 2, 2, 2, 2, 2, 2, 0, 3, 1, 3, 0, 2, 2, 3, 3, 3, 0, 3, 1, 2, 3, 0, 1, 3, 3, 2, 3, 2, 0, 0, 3, 1, 3, 3, 0, 1, 2, 0, 1, 2, 2, 1, 0, 0, 1, 2, 0, 3, 3, 1, 0, 0, 2, 0, 0, 2, 3, 3, 0, 0, 0, 0, 0, 3, 3, 1, 3, 2, 1, 0, 1, 0, 3, 3, 0, 2, 0, 2, 1, 2, 1, 3, 3, 2, 3, 0, 3, 3, 2, 0, 0, 1, 2, 3, 0, 1, 0, 1, 1, 3, 2, 2, 0, 3, 0, 3, 1, 3, 2, 3, 3, 3, 2, 2, 0, 2, 2, 1, 1, 0, 3, 3, 0, 0, 0, 1, 3, 1, 3, 3, 2, 0, 1, 3, 0, 3, 2, 3, 0, 0, 3, 3, 1, 0, 3, 0, 1, 3, 3, 3, 3, 2, 3, 3, 2, 1, 2, 1, 1, 3, 3, 3, 2, 1, 3, 3, 3, 2, 2, 3, 3, 3, 3, 3, 3, 3, 3, 3, 1, 3, 3, 0, 3, 2, 3, 1, 3, 3, 2, 1, 0, 0, 3, 0, 2, 1, 2, 2, 1, 0, 1, 2, 1, 3, 0, 2, 0, 2, 3, 3, 2, 2, 0, 2, 3, 3, 1, 3, 3, 2, 2, 3, 0, 2, 3, 2, 1, 0, 2, 3, 0, 2, 1, 3, 2, 2, 3, 1, 3, 2, 3, 1, 3, 0, 2, 1, 3, 3, 2, 1, 2, 2, 2, 2, 3, 3, 3, 3, 3, 3, 3, 3, 3, 2, 3, 2, 1, 2, 1, 3, 3, 3, 3, 2, 1, 3, 0, 2, 3, 3, 3, 3, 2, 0, 2, 0, 2, 3, 3, 3, 0, 2, 3, 3, 2, 3, 2, 3, 3, 1, 2, 3, 0, 3, 3, 3, 1, 3, 2, 0, 3, 3, 3, 1, 0, 2, 1, 2, 3, 3, 0, 0, 2, 2, 2, 1, 1, 2, 0, 3, 0, 0, 3, 2, 2, 1, 3, 0, 3, 0, 2, 2, 2, 3, 3, 1, 2, 1, 2, 0, 1, 0, 2, 0, 0, 2, 2, 3, 0, 2, 3, 3, 0, 2, 2, 3, 3, 1, 0, 2, 0, 2, 2, 3, 2, 3, 2, 1, 1, 3, 2, 3, 3, 3, 3, 3, 3, 3, 2, 3, 1, 2, 1, 3, 3, 3, 3, 3, 3, 0, 2, 1, 0, 0, 2, 3, 2, 2, 3, 2, 0, 3, 2, 3, 2, 3, 0, 3, 3, 1, 2, 0, 3, 1, 2, 3, 0, 3, 2, 0, 3, 0, 3, 2, 3, 2, 2, 2, 3, 0, 0, 3, 3, 2, 3, 3, 0, 3, 0, 3, 3, 1, 2, 0, 3, 2, 2, 2, 2, 3, 3, 3, 1, 1, 0, 2, 3, 2, 0, 3, 1, 1, 3, 3, 2, 3, 0, 3, 2, 2, 2, 2, 2, 3, 2, 0, 3, 3, 3, 3, 0, 2, 0, 3, 3, 1, 2, 0, 3, 2, 2, 3, 2, 0, 0, 3, 2, 3, 3, 2, 3, 3, 2, 2, 3, 0, 3, 0, 3, 1, 0, 3, 3, 0, 2, 3, 3, 0, 2, 3, 3, 0, 0, 1, 0, 2, 2, 3, 3, 1, 1, 2, 2, 0, 3, 2, 3, 2, 1, 0, 3, 3, 2, 0, 2, 0, 3, 2, 3, 0, 1, 2, 1, 0, 3, 3, 2, 2, 1, 2, 3, 3, 2, 2, 0, 2, 2, 2, 3, 3, 2, 3, 3, 2, 3, 2, 3, 0, 1, 3, 3, 3, 0, 2, 0, 2, 1, 2, 3, 3, 2, 1, 2, 3, 2, 3, 2, 3, 0, 3, 0, 3, 3, 3, 3, 3, 2, 3, 0, 3, 3, 2, 2, 3, 3, 2, 2, 1, 2, 3, 3, 2, 0, 2, 0, 0, 0, 2, 3, 0, 3, 2, 1, 3, 0, 3, 2, 2, 3, 3, 3, 2, 3, 0, 2, 2, 3, 2, 0, 0, 2, 3, 2, 2, 1, 2, 2, 0, 3, 3, 3, 2, 2, 3, 3, 2, 1, 3, 1, 3, 2, 3, 0, 2, 3, 0, 2, 3, 2, 3, 0, 3, 2, 1, 3, 2, 3, 0, 2, 2, 3, 3, 1, 1, 3, 2, 2, 1, 0, 2, 3, 3, 3, 1, 1, 0, 2, 2, 0, 2, 2, 0, 3, 2, 1, 1, 1, 3, 0, 0, 3, 2, 2, 3, 3, 2, 1, 0, 3, 2, 3, 3, 3, 3, 1, 1, 0, 3, 1, 1, 2, 3, 3, 0, 3, 1, 3, 3, 3, 2, 2, 3, 2, 3, 0, 3, 3, 0, 3, 1, 2, 2, 2, 2, 3, 3, 3, 1, 2, 3, 2, 0, 0, 1, 3, 3, 3, 3, 0, 1, 3, 1, 3, 3, 2, 2, 0, 3, 3, 3, 2, 2, 3, 1, 0, 3, 3, 3, 0, 1, 3, 3, 1, 1, 1, 0, 0, 3, 0, 2, 1, 2, 3, 2, 0, 2, 2, 3, 2, 3, 1, 2, 3, 0, 3, 3, 3, 2, 3, 0, 0, 1, 3, 2, 0, 0, 0, 1, 2, 2, 2, 3, 3, 1, 0, 0, 2, 2, 3, 2, 1, 2, 0, 3, 3, 3, 3, 0, 1, 1, 3, 2, 3, 3, 2, 1, 3, 3, 0, 3, 2, 3, 0, 3, 3, 3, 3, 3, 1, 0, 2, 3, 3, 0, 3, 2, 1, 2, 3, 1, 2, 3, 0, 3, 3, 1, 2, 0, 2, 0, 1, 3, 0, 1, 1, 2, 3, 3, 1, 3, 2, 3, 3, 1, 0, 1, 0, 0, 3, 0, 0, 3, 2, 2, 3, 2, 3, 2, 1, 2, 1, 0, 0, 3, 3, 3, 3, 2, 3, 2, 0, 3, 1, 1, 3, 0, 3, 3, 0, 0, 1, 1, 2, 0, 2, 1, 2, 3, 0, 2, 3, 2, 3, 1, 2, 3, 2, 1, 3, 1, 2, 1, 3, 3, 2, 2, 2, 2, 3, 0, 2, 3, 1, 3, 3, 2, 3, 0, 2, 3, 3, 1, 3, 0, 0, 3, 0, 2, 3, 3, 3, 3, 2, 3, 1, 0, 3, 3, 2, 3, 3, 0, 3, 0, 2, 3, 2, 1, 2, 2, 2, 2, 3, 0, 3, 2, 2, 2, 0, 2, 0, 3, 3, 3, 2, 0, 2, 3, 1, 1, 2, 2, 3, 0, 0, 1, 3, 2, 3, 2, 2, 2, 0, 0, 1, 1, 0, 2, 1, 2, 3, 0, 1, 3, 3, 2, 2, 3, 3, 0, 2, 2, 3, 2, 0, 2, 2, 1, 2, 3, 3, 1, 3, 3, 3, 0, 3, 0, 2, 3, 0, 3, 3, 3, 1, 3, 1, 2, 3, 2, 3, 2, 0, 1, 0, 3, 0, 3, 1, 2, 0, 3, 0, 2, 3, 0, 3, 3, 2, 3, 1, 2, 2, 0, 2, 0, 3, 2, 1, 2, 2, 3, 1, 1, 3, 3, 2, 0, 2, 2, 0, 0, 0, 2, 3, 0, 1, 3, 0, 3, 2, 3, 3, 2, 1, 2, 2, 2, 3, 3, 3, 3, 0, 0, 1, 3, 3, 0, 3, 0, 1, 1, 3, 3, 3, 1, 0, 1, 0, 1, 3, 3, 3, 2, 1, 2, 2, 3, 3, 2, 0, 0, 3, 3, 1, 1, 1, 3, 2, 2, 3, 3, 3, 2, 3, 2, 3, 2, 0, 3, 3, 2, 3, 3, 3, 3, 1, 3, 2, 2, 3, 1, 2, 0, 3, 3, 3, 1, 3, 3, 2, 1, 2, 2, 3, 3, 3, 3, 2, 1, 2, 3, 2, 3, 2, 1, 0, 3, 3, 3, 1, 3, 3, 0, 2, 3, 3, 0, 0, 2, 3, 1, 0, 0, 2, 3, 3, 3, 3, 3, 0, 1, 0, 2, 1, 3, 3, 0, 3, 2, 2, 2, 3, 3, 0, 2, 3, 0, 3, 0, 3, 3, 3, 2, 3, 2, 3, 2, 3, 2, 1, 2, 0, 2, 1, 0, 2, 0, 3, 3, 0, 3, 1, 2, 3, 0, 1, 1, 2, 1, 3, 2, 1, 3, 3, 3, 2, 3, 3, 1, 0, 1, 2, 0, 0, 3, 2, 2, 3, 3, 2, 1, 1, 3, 3, 1, 3, 0, 3, 0, 3, 3, 2, 3, 3, 1, 0, 3, 1, 1, 2, 1, 1, 3, 2, 2, 0, 2, 3, 3, 0, 3, 1, 3, 3, 2, 3, 3, 2, 2, 0, 1, 3, 0, 1, 1, 2, 2, 3, 0, 3, 1, 2, 3, 3, 3, 0, 3, 2, 3, 2, 0, 2, 0, 3, 2, 0, 1, 2, 3, 1, 3, 2, 3, 3, 0, 2, 3, 3, 1, 3, 3, 0, 3, 0, 0, 2, 2, 1, 2, 0, 3, 0, 2, 3, 2, 2, 3, 1, 0, 2, 3, 0, 2, 0, 3, 3, 2, 2, 1, 3, 2, 2, 1, 3, 3, 3, 2, 3, 3, 1, 3, 3, 0, 2, 3, 0, 2, 3, 3, 3, 0, 1, 1, 2, 0, 1, 3, 0, 0, 2, 1, 3, 1, 3, 0, 0, 0, 3, 2, 3, 3, 0, 2, 2, 3, 2, 0, 0, 2, 2, 0, 2, 1, 3, 1, 0, 2, 2, 3, 0, 1, 1, 3, 3, 0, 2, 2, 2, 1, 3, 1, 3, 2, 2, 3, 2, 0, 0, 0, 3, 2, 0, 3, 3, 2, 2, 1, 3, 0, 3, 3, 2, 3, 1, 2, 0, 2, 3, 1, 1, 3, 2, 2, 2, 0, 2, 2, 3, 3, 2, 3, 2, 2, 3, 2, 1, 2, 1, 3, 1, 3, 1, 3, 3, 0, 2, 2, 2, 3, 2, 3, 0, 3, 3, 2, 2, 1, 3, 3, 1, 1, 3, 3, 2, 0, 2, 0, 3, 2, 3, 3, 0, 2, 0, 3, 0, 2, 3, 1, 2, 2, 3, 0, 3, 2, 3, 3, 1, 1, 3, 2, 3, 0, 0, 3, 2, 3, 1, 2, 2, 3, 3, 2, 2, 2, 2, 3, 3, 0, 3, 0, 0, 2, 3, 3, 1, 2, 2, 3, 3, 3, 2, 3, 3, 3, 2, 3, 2, 2, 2, 1, 2, 2, 1, 1, 0, 0, 1, 3, 1, 3, 2, 0, 3, 3, 3, 0, 3, 2, 0, 3, 1, 1, 3, 3, 2, 3, 3, 2, 3, 0, 2, 3, 2, 2, 3, 3, 2, 2, 3, 3, 0, 2, 0, 3, 0, 0, 2, 1, 1, 0, 2, 1, 3, 3, 3, 3, 2, 3, 3, 0, 0, 0, 1, 2, 0, 2, 3, 3, 2, 3, 1, 3, 2, 2, 3, 0, 3, 0, 2, 0, 1, 2, 0, 0, 3, 2, 2, 0, 3, 3, 1, 2, 3, 0, 3, 3, 3, 2, 3, 3, 0, 3, 0, 3, 3, 3, 3, 1, 3, 2, 2, 0, 3, 0, 0, 3, 1, 2, 3, 0, 2, 3, 0, 2, 2, 3, 3, 3, 3, 3, 3, 3, 1, 2, 3, 1, 3, 1, 0, 1, 2, 3, 3, 0, 0, 3, 1, 1, 2, 2, 3, 3, 2, 0, 1, 0, 2, 1, 0, 3, 2, 1, 3, 2, 2, 0, 3, 2, 0, 2, 3, 0, 2, 1, 0, 2, 2, 3, 2, 1, 3, 2, 3, 2, 3, 2, 3, 3, 3, 1, 1, 0, 0, 1, 2, 0, 3, 0, 3, 1, 2, 3, 1, 1, 1, 3, 2, 3, 1, 1, 0, 2, 3, 1, 2, 3, 0, 2, 2, 0, 3, 3, 3, 2, 2, 3, 0, 1, 3, 0, 2, 2, 0, 2, 1, 3, 1, 2, 2, 3, 3, 0, 2, 3, 3, 3, 1, 3, 3, 3, 3, 2, 0, 0, 0, 3, 1, 2, 3, 2, 3, 3, 2, 2, 3, 3, 3, 2, 3, 0, 3, 0, 2, 3, 2, 2, 0, 3, 3, 3, 3, 3, 3, 3, 2, 3, 2, 2, 0, 2, 3, 2, 3, 0, 2, 0, 0, 0, 0, 0, 2, 2, 1, 1, 3, 0, 1, 3, 3, 2, 0, 2, 2, 2, 1, 3, 3, 0, 2, 1, 3, 1, 2, 3, 1, 2, 2, 3, 2, 1, 2, 1, 2, 3, 0, 0, 2, 0, 0, 3, 3, 3, 3, 2, 2, 2, 3, 3, 3, 3, 1, 3, 0, 2, 3, 3, 3, 0, 0, 2, 1, 0, 0, 3, 3, 2, 3, 2, 3, 3, 0, 3, 2, 3, 1, 2, 2, 3, 1, 2, 1, 3, 3, 3, 3, 0, 0, 2, 1, 3, 3, 3, 2, 3, 0, 3, 0, 2, 2, 2, 1, 3, 2, 2, 3, 0, 3, 3, 0, 3, 3, 3, 1, 2, 2, 3, 1, 3, 3, 2, 2, 2, 2, 0, 3, 2, 2, 3, 2, 2, 1, 1, 2, 1, 3, 2, 1, 3, 3, 1, 1, 3, 3, 2, 3, 0, 0, 0, 1, 2, 1, 3, 3, 2, 3, 1, 3, 2, 0, 2, 3, 3, 2, 2, 2, 3, 3, 3, 2, 3, 3, 3, 2, 0, 1, 2, 1, 2, 3, 0, 2, 0, 1, 3, 0, 1, 3, 3, 3, 3, 2, 2, 2, 2, 1, 2, 3, 2, 2, 2, 3, 0, 0, 1, 3, 2, 3, 0, 1, 3, 3, 1, 2, 3, 2, 1, 2, 1, 0, 2, 2, 0, 0, 3, 3, 2, 1, 0, 1, 0, 2, 1, 3, 3, 3, 3, 2, 2, 3, 1, 3, 3, 2, 2, 2, 3, 2, 2, 3, 3, 3, 3, 0, 2, 0, 2, 3, 1, 0, 2, 2, 0, 3, 2, 2, 3, 3, 1, 3, 0, 3, 3, 0, 2, 3, 0, 3, 1, 2, 2, 0, 0, 2, 1, 2, 0, 2, 2, 2, 3, 3, 2, 2, 2, 3, 3, 1, 0, 1, 1, 3, 3, 2, 1, 0, 2, 3, 0, 2, 3, 3, 2, 3, 0, 2, 3, 3, 3, 0, 3, 3, 3, 1, 2, 0, 2, 3, 0, 1, 2, 0, 1, 2, 0, 2, 3, 0, 1, 3, 3, 2, 3, 3, 3, 0, 1, 3, 0, 2, 0, 2, 2, 0, 3, 3, 0, 3, 3, 3, 0, 1, 2, 3, 3, 0, 3, 3, 2, 0, 2, 3, 0, 3, 3, 1, 0, 1, 2, 0, 3, 2, 3, 3, 3, 0, 3, 3, 1, 0, 0, 0, 3, 3, 3, 0, 1, 3, 0, 2, 0, 3, 1, 3, 0, 3, 3, 2, 1, 3, 2, 1, 3, 1, 0, 0, 2, 2, 0, 1, 0, 0, 0, 3, 3, 2, 3, 1, 2, 3, 3, 2, 2, 0, 0, 3, 3, 2, 1, 2, 1, 3, 2, 0, 2, 3, 3, 3, 3, 3, 3, 3, 2, 2, 0, 3, 0, 0, 2, 3, 3, 0, 0, 0, 0, 3, 3, 2, 2, 3, 2, 1, 3, 1, 2, 2, 0, 1, 1, 0, 0, 2, 0, 3, 0, 3, 3, 0, 0, 2, 2, 3, 3, 1, 3, 0, 1, 3, 3, 1, 3, 0, 2, 0, 2, 2, 3, 0, 0, 0, 0, 3, 2, 2, 3, 2, 0, 2, 1, 2, 2, 1, 3, 0, 2, 0, 1, 1, 2, 2, 1, 3, 0, 1, 3, 1, 3, 0, 3, 2, 2, 1, 2, 2, 3, 1, 3, 2, 3, 0, 3, 1, 1, 3, 3, 3, 3, 0, 1, 2, 0, 1, 3, 2, 0, 3, 0, 3, 3, 0, 3, 1, 3, 2, 2, 3, 2, 3, 3, 3, 2, 1, 0, 0, 3, 2, 2, 2, 1, 1, 0, 3, 2, 3, 0, 2, 3, 0, 1, 1, 2, 3, 2, 0, 0, 3, 0, 3, 3, 2, 2, 3, 0, 2, 0, 0, 0, 2, 3, 2, 3, 3, 3, 1, 2, 3, 3, 3, 0, 3, 2, 3, 1, 3, 2, 1, 1, 3, 2, 0, 0, 2, 1, 2, 2, 3, 3, 3, 1, 3, 0, 1, 3, 2, 2, 3, 2, 0, 3, 0, 3, 3, 2, 0, 2, 3, 3, 3, 3, 3, 2, 1, 2, 3, 3, 3, 3, 0, 2, 3, 1, 0, 1, 0, 3, 2, 3, 1, 3, 2, 0, 3, 3, 3, 0, 0, 3, 3, 2, 0, 2, 3, 2, 3, 2, 3, 0, 3, 2, 0, 0, 3, 2, 3, 2, 1, 0, 3, 2, 3, 2, 3, 1, 0, 2, 3, 3, 2, 3, 2, 3, 0, 2, 3, 0, 3, 2, 2, 3, 3, 3, 3, 1, 3, 0, 3, 2, 0, 1, 2, 0, 0, 2, 2, 3, 3, 3, 3, 3, 3, 1, 2, 3, 3, 0, 2, 3, 2, 2, 3, 3, 0, 3, 3, 1, 3, 0, 2, 3, 2, 3, 3, 0, 3, 3, 3, 1, 3, 2, 3, 3, 2, 1, 2, 2, 0, 3, 3, 3, 0, 0, 2, 3, 3, 3, 3, 0, 2, 3, 1, 2, 3, 3, 0, 3, 0, 1, 0, 2, 3, 2, 0, 0, 3, 2, 3, 1, 1, 0, 2, 2, 3, 1, 3, 3, 3, 0, 2, 0, 2, 2, 3, 1, 1, 3, 1, 1, 1, 3, 2, 2, 3, 3, 0, 1, 3, 2, 1, 3, 2, 3, 2, 3, 3, 3, 3, 2, 2, 3, 3, 1, 3, 2, 3, 1, 3, 3, 2, 0, 0, 3, 1, 2, 2, 3, 0, 0, 2, 2, 3, 3, 3, 1, 1, 2, 0, 3, 3, 0, 1, 3, 2, 3, 2, 1, 1, 3, 3, 1, 2, 3, 2, 3, 3, 2, 2, 0, 1, 3, 3, 2, 1, 0, 3, 2, 0, 3, 3, 2, 3, 3, 0, 1, 2, 3, 0, 1, 0, 0, 2, 3, 2, 3, 3, 1, 0, 2, 2, 0, 0, 3, 3, 3, 3, 2, 3, 3, 1, 3, 3, 0, 1, 2, 3, 3, 0, 3, 3, 3, 2, 0, 1, 3, 3, 0, 0, 3, 3, 1, 0, 3, 2, 3, 1, 3, 2, 1, 1, 3, 3, 1, 1, 2, 1, 3, 0, 2, 3, 3, 2, 3, 3, 3, 3, 1, 3, 2, 3, 0, 3, 2, 3, 3, 3, 1, 2, 2, 3, 1, 0, 3, 1, 2, 1, 3, 0, 3, 3, 3, 1, 2, 1, 0, 3, 2, 3, 3, 2, 3, 3, 0, 3, 0, 1, 3, 3, 0, 2, 3, 2, 3, 2, 3, 3, 0, 0, 3, 2, 2, 1, 3, 1, 3, 0, 2, 3, 2, 2, 2, 3, 0, 3, 3, 2, 3, 3, 2, 0, 0, 2, 3, 3, 3, 0, 3, 3, 0, 3, 3, 2, 2, 2, 1, 3, 1, 0, 3, 2, 3, 3, 0, 3, 3, 3, 2, 3, 0, 2, 2, 3, 2, 1, 0, 3, 2, 3, 3, 1, 2, 3, 3, 2, 2, 3, 2, 3, 2, 2, 3, 2, 3, 0, 2, 1, 1, 3, 2, 2, 3, 2, 3, 2, 3, 2, 2, 2, 0, 3, 3, 3, 2, 2, 2, 3, 0, 3, 1, 3, 3, 3, 3, 3, 3, 2, 3, 0, 2, 0, 0, 1, 3, 1, 3, 1, 0, 3, 1, 3, 3, 3, 1, 0, 0, 0, 2, 2, 2, 3, 0, 3, 1, 2, 2, 1, 3, 3, 0, 3, 3, 0, 3, 2, 2, 3, 0, 3, 2, 3, 1, 3, 2, 2, 3, 1, 1, 1, 0, 2, 2, 3, 2, 3, 2, 2, 2, 3, 3, 3, 0, 3, 2, 0, 3, 3, 2, 0, 3, 1, 3, 0, 2, 2, 1, 3, 1, 0, 3, 0, 3, 3, 1, 1, 3, 2, 1, 2, 3, 0, 2, 0, 0, 3, 0, 2, 0, 2, 3, 0, 3, 2, 3, 3, 2, 0, 1, 3, 2, 1, 3, 0, 3, 0, 0, 3, 2, 3, 3, 2, 3, 3, 3, 0, 1, 3, 3, 3, 1, 0, 3, 1, 2, 2, 1, 0, 1, 3, 1, 3, 0, 3, 0, 3, 3, 3, 1, 2, 0, 1, 2, 2, 1, 3, 2, 0, 3, 3, 3, 3, 2, 1, 3, 2, 2, 0, 3, 1, 3, 3, 3, 2, 0, 3, 3, 2, 3, 2, 3, 2, 0, 1, 3, 3, 0, 1, 3, 3, 2, 3, 3, 2, 2, 3, 0, 2, 0, 2, 2, 2, 3, 0, 0, 3, 2, 3, 3, 2, 1, 3, 1, 0, 1, 3, 0, 1, 0, 3, 3, 0, 1, 1, 1, 3, 3, 3, 1, 0, 0, 3, 3, 2, 1, 3, 3, 1, 3, 1, 3, 3, 3, 0, 1, 3, 2, 3, 3, 0, 1, 2, 0, 3, 3, 3, 3, 2, 2, 3, 2, 0, 3, 2, 1, 3, 3, 2, 1, 0, 3, 3, 0, 3, 2, 0, 3, 3, 3, 3, 3, 2, 3, 2, 2, 1, 2, 3, 0, 1, 1, 2, 0, 2, 0, 0, 3, 2, 3, 1, 3, 3, 3, 2, 3, 3, 3, 2, 0, 1, 3, 3, 2, 2, 3, 2, 2, 3, 0, 2, 2, 3, 0, 3, 2, 2, 2, 2, 3, 3, 3, 3, 3, 2, 3, 2, 2, 3, 2, 2, 0, 3, 3, 1, 2, 0, 0, 3, 2, 3, 3, 2, 3, 1, 3, 1, 1, 2, 3, 3, 3, 2, 3, 2, 3, 0, 3, 1, 3, 2, 3, 0, 0, 2, 2, 2, 0, 2, 0, 3, 1, 2, 2, 2, 1, 3, 3, 3, 0, 0, 1, 1, 0, 3, 2, 0, 0, 2, 1, 3, 0, 2, 2, 1, 2, 1, 1, 2, 3, 3, 3, 3, 3, 0, 0, 1, 1, 0, 2, 3, 3, 0, 3, 3, 2, 1, 2, 3, 3, 3, 3, 3, 3, 3, 0, 3, 0, 1, 3, 2, 0, 2, 3, 0, 1, 3, 2, 2, 3, 2, 3, 3, 2, 3, 1, 3, 3, 2, 3, 3, 3, 2, 0, 3, 3, 1, 3, 0, 2, 3, 3, 1, 0, 2, 1, 2, 0, 0, 0, 3, 2, 3, 3, 3, 0, 0, 2, 1, 2, 3, 2, 2, 2, 1, 3, 3, 0, 0, 1, 3, 0, 0, 3, 3, 0, 1, 3, 1, 1, 0, 0, 3, 2, 3, 2, 2, 3, 3, 2, 1, 2, 3, 0, 0, 0, 0, 1, 3, 3, 3, 3, 0, 2, 2, 2, 2, 2, 3, 3, 3, 0, 3, 1, 1, 3, 3, 3, 3, 2, 0, 1, 2, 2, 2, 2, 3, 3, 0, 1, 2, 0, 3, 0, 0, 0, 3, 1, 2, 2, 3, 1, 1, 3, 2, 2, 3, 3, 3, 3, 1, 3, 0, 2, 1, 3, 2, 0, 0, 3, 3, 3, 3, 3, 2, 2, 3, 3, 3, 3, 2, 0, 3, 3, 0, 1, 3, 3, 0, 3, 2, 2, 2, 3, 2, 3, 0, 2, 3, 0, 3, 3, 2, 3, 3, 0, 2, 0, 2, 3, 2, 0, 2, 3, 1, 0, 0, 3, 0, 3, 0, 0, 3, 3, 2, 3, 0, 2, 0, 3, 2, 0, 0, 1, 3, 2, 2, 1, 2, 2, 1, 2, 0, 1, 3, 1, 0, 3, 1, 1, 1, 3, 3, 3, 2, 2, 1, 1, 0, 1, 1, 3, 2, 2, 3, 2, 2, 3, 3, 2, 3, 0, 3, 3, 3, 2, 1, 2, 2, 0, 2, 3, 3, 2, 2, 3, 3, 3, 3, 3, 2, 3, 3, 0, 3, 2, 3, 1, 0, 3, 2, 2, 3, 1, 1, 0, 1, 1, 1, 3, 2, 0, 2, 1, 0, 1, 3, 0, 3, 0, 3, 0, 3, 2, 3, 2, 2, 3, 3, 3, 3, 3, 3, 2, 3, 0, 3, 0, 1, 3, 0, 3, 2, 1, 3, 1, 2, 0, 3, 0, 3, 3, 2, 3, 2, 3, 3, 3, 0, 3, 3, 3, 2, 0, 3, 1, 3, 3, 3, 1, 0, 3, 1, 2, 1, 0, 1, 3, 0, 2, 3, 3, 1, 3, 3, 2, 1, 0, 1, 3, 2, 3, 3, 2, 0, 1, 2, 3, 3, 2, 2, 2, 2, 2, 3, 3, 2, 2, 3, 3, 3, 3, 3, 3, 3, 0, 3, 3, 3, 1, 1, 3, 3, 3, 3, 1, 2, 0, 0, 0, 1, 3, 0, 3, 3, 2, 1, 2, 0, 2, 2, 0, 3, 3, 0, 1, 3, 0, 3, 3, 1, 2, 1, 3, 1, 0, 0, 3, 2, 2, 2, 2, 3, 1, 3, 2, 0, 2, 3, 3, 1, 2, 3, 0, 2, 2, 3, 2, 3, 3, 1, 3, 3, 2, 2, 0, 3, 3, 0, 3, 0, 3, 2, 1, 3, 3, 3, 3, 0, 2, 2, 1, 3, 3, 0, 2, 2, 2, 2, 3, 1, 0, 0, 2, 3, 0, 3, 2, 0, 2, 3, 1, 1, 2, 1, 0, 3, 2, 2, 3, 3, 3, 3, 3, 1, 2, 3, 1, 2, 3, 2, 3, 2, 2, 3, 3, 0, 2, 0, 2, 3, 2, 3, 2, 1, 3, 3, 3, 0, 1, 0, 3, 2, 3, 0, 2, 2, 3, 0, 1, 2, 2, 3, 3, 3, 2, 3, 3, 0, 2, 3, 0, 3, 3, 3, 3, 2, 0, 3, 2, 0, 3, 2, 3, 1, 3, 0, 2, 3, 3, 0, 3, 3, 2, 3, 3, 3, 0, 0, 3, 3, 2, 2, 3, 0, 2, 3, 3, 3, 3, 0, 0, 2, 1, 1, 0, 0, 2, 0, 0, 3, 2, 2, 3, 3, 3, 3, 3, 3, 0, 2, 1, 3, 2, 3, 3, 3, 3, 3, 3, 3, 2, 1, 0, 3, 2, 3, 2, 1, 0, 2, 2, 2, 1, 2, 1, 3, 2, 2, 1, 3, 2, 3, 0, 2, 1, 0, 0, 2, 2, 3, 3, 3, 3, 3, 1, 2, 3, 1, 3, 2, 2, 3, 1, 3, 1, 2, 1, 1, 2, 1, 2, 1, 2, 3, 0, 1, 1, 0, 0, 2, 0, 0, 2, 1, 3, 1, 3, 3, 3, 2, 0, 0, 2, 1, 3, 3, 3, 2, 1, 2, 0, 1, 0, 2, 2, 3, 3, 0, 3, 0, 1, 1, 3, 2, 3, 1, 0, 1, 2, 0, 2, 3, 2, 0, 0, 2, 0, 0, 2, 3, 2, 3, 2, 3, 2, 0, 3, 1, 0, 1, 1, 2, 3, 3, 3, 3, 3, 3, 1, 2, 0, 3, 2, 3, 1, 2, 2, 3, 3, 3, 1, 3, 2, 3, 1, 2, 0, 3, 0, 2, 2, 1, 3, 3, 2, 3, 0, 1, 2, 0, 3, 0, 3, 3, 0, 3, 3, 1, 0, 3, 3, 2, 0, 2, 3, 2, 0, 0, 3, 3, 3, 1, 2, 3, 3, 1, 2, 3, 2, 3, 3, 3, 0, 1, 0, 3, 3, 2, 2, 0, 2, 2, 1, 3, 2, 2, 3, 3, 2, 2, 3, 3, 0, 1, 3, 1, 1, 0, 0, 3, 2, 2, 3, 3, 3, 2, 1, 2, 2, 1, 2, 0, 2, 3, 3, 2, 2, 1, 3, 2, 3, 3, 3, 1, 3, 0, 2, 0, 1, 2, 3, 2, 0, 0, 0, 2, 3, 0, 3, 1, 0, 2, 2, 2, 2, 3, 3, 0, 3, 2, 2, 2, 0, 2, 3, 3, 3, 3, 3, 3, 2, 0, 3, 3, 3, 3, 0, 3, 2, 3, 0, 0, 2, 1, 3, 0, 2, 2, 2, 2, 2, 2, 1, 3, 2, 2, 3, 2, 1, 3, 3, 1, 2, 0, 1, 2, 3, 2, 2, 1, 1, 0, 1, 2, 0, 3, 2, 3, 3, 2, 2, 2, 1, 0, 0, 3, 3, 2, 3, 0, 2, 3, 2, 0, 3, 3, 2, 2, 0, 0, 3, 3, 1, 3, 3, 3, 0, 2, 1, 1, 2, 3, 2, 3, 3, 3, 2, 3, 1, 3, 2, 3, 3, 2, 3, 2, 2, 3, 3, 2, 0, 0, 0, 3, 2, 3, 3, 3, 0, 0, 3, 2, 3, 0, 3, 2, 3, 0, 3, 2, 0, 2, 3, 3, 0, 3, 2, 2, 2, 0, 2, 3, 3, 3, 3, 3, 3, 3, 3, 1, 3, 3, 2, 3, 2, 2, 2, 3, 0, 3, 0, 3, 3, 2, 3, 2, 3, 1, 0, 3, 1, 2, 0, 3, 1, 3, 2, 2, 3, 3, 3, 2, 3, 0, 3, 3, 2, 1, 3, 2, 0, 3, 3, 3, 3, 2, 0, 3, 2, 2, 1, 2, 3, 2, 2, 1, 0, 2, 3, 3, 3, 0, 3, 3, 3, 3, 3, 3, 1, 2, 3, 1, 2, 2, 3, 3, 2, 2, 0, 2, 1, 1, 3, 2, 3, 2, 2, 0, 3, 2, 2, 3, 3, 3, 0, 3, 0, 2, 3, 3, 2, 2, 2, 3, 0, 2, 1, 1, 1, 2, 0, 3, 2, 3, 0, 3, 2, 2, 1, 0, 3, 2, 2, 3, 0, 2, 2, 3, 1, 0, 2, 3, 0, 0, 3, 2, 2, 0, 0, 2, 2, 1, 2, 2, 2, 3, 2, 2, 3, 3, 3, 1, 0, 3, 0, 3, 0, 1, 3, 3, 3, 1, 1, 3, 1, 2, 1, 3, 3, 3, 0, 3, 0, 2, 1, 1, 1, 2, 2, 3, 3, 3, 3, 3, 2, 3, 3, 2, 1, 2, 3, 1, 0, 2, 0, 1, 0, 1, 2, 2, 3, 2, 2, 1, 2, 0, 3, 1, 1, 3, 3, 3, 3, 0, 3, 3, 1, 2, 0, 3, 2, 3, 3, 0, 2, 3, 2, 0, 3, 3, 3, 3, 3, 3, 0, 0, 2, 0, 3, 2, 3, 3, 3, 3, 3, 1, 3, 2, 2, 3, 3, 3, 2, 2, 3, 0, 3, 3, 3, 3, 0, 3, 3, 2, 1, 3, 0, 0, 1, 2, 2, 2, 2, 1, 2, 3, 3, 1, 2, 2, 2, 1, 2, 3, 3, 3, 1, 3, 3, 3, 2, 3, 3, 1, 3, 3, 3, 0, 3, 2, 0, 1, 0, 2, 1, 3, 1, 3, 0, 3, 3, 2, 0, 1, 2, 2, 3, 2, 0, 3, 3, 1, 3, 1, 1, 3, 1, 1, 1, 3, 1, 3, 1, 0, 2, 3, 1, 1, 1, 3, 3, 0, 2, 0, 1, 2, 0, 2, 2, 0, 1, 1, 3, 2, 1, 0, 1, 3, 2, 1, 2, 3, 2, 3, 3, 2, 3, 2, 0, 3, 2, 2, 1, 2, 2, 2, 3, 2, 2, 3, 3, 2, 1, 3, 2, 3, 3, 3, 3, 3, 0, 3, 3, 2, 0, 2, 3, 0, 2, 1, 3, 0, 3, 0, 3, 3, 1, 0, 1, 0, 0, 2, 0, 3, 3, 3, 3, 0, 3, 3, 0, 0, 0, 3, 0, 1, 3, 0, 2, 3, 2, 3, 1, 0, 3, 1, 2, 0, 3, 0, 1, 1, 3, 2, 2, 1, 3, 2, 2, 1, 1, 3, 3, 3, 0, 3, 0, 0, 0, 2, 2, 3, 3, 3, 2, 1, 3, 0, 0, 3, 2, 3, 1, 0, 2, 3, 0, 2, 3, 3, 3, 0, 0, 3, 3, 2, 3, 3, 3, 3, 2, 3, 1, 2, 1, 3, 3, 3, 2, 3, 3, 3, 3, 2, 3, 3, 3, 0, 3, 0, 3, 1, 0, 3, 2, 2, 1, 1, 1, 2, 1, 3, 2, 0, 0, 3, 0, 0, 2, 2, 0, 3, 0, 2, 2, 3, 3, 0, 3, 0, 1, 1, 2, 2, 2, 2, 0, 3, 3, 3, 3, 3, 2, 2, 1, 0, 0, 2, 3, 3, 3, 2, 2, 0, 3, 3, 2, 0, 1, 2, 0, 0, 2, 3, 0, 3, 3, 2, 3, 2, 0, 2, 2, 1, 3, 0, 2, 2, 3, 2, 2, 0, 0, 0, 2, 3, 3, 3, 2, 2, 0, 3, 0, 0, 3, 3, 2, 2, 2, 3, 0, 2, 1, 0, 0, 2, 2, 3, 2, 2, 0, 2, 0, 2, 3, 3, 3, 2, 0, 0, 1, 0, 2, 0, 3, 3, 1, 3, 1, 2, 1, 2, 1, 2, 3, 3, 0, 3, 1, 3, 0, 1, 3, 3, 2, 2, 2, 3, 0, 3, 0, 1, 0, 2, 1, 2, 2, 0, 3, 2, 3, 1, 2, 2, 0, 2, 0, 2, 2, 0, 1, 0, 3, 2, 0, 3, 2, 2, 1, 3, 1, 2, 3, 3, 3, 3, 3, 2, 0, 3, 1, 2, 0, 2, 3, 3, 0, 1, 2, 3, 3, 2, 0, 3, 3, 1, 3, 3, 2, 2, 3, 3, 3, 3, 1, 0, 0, 0, 3, 1, 3, 3, 0, 0, 1, 3, 0, 0, 3, 1, 2, 2, 3, 1, 2, 2, 0, 0, 3, 3, 3, 3, 0, 2, 1, 0, 2, 0, 3, 3, 3, 2, 3, 0, 3, 0, 2, 2, 2, 3, 3, 3, 0, 3, 3, 0, 3, 2, 0, 1, 0, 3, 3, 2, 1, 1, 2, 3, 2, 3, 2, 3, 3, 3, 2, 0, 1, 3, 3, 2, 2, 0, 0, 1, 3, 3, 3, 1, 0, 3, 0, 3, 3, 1, 3, 1, 2, 3, 0, 3, 3, 1, 2, 3, 3, 1, 0, 2, 3, 2, 1, 1, 3, 0, 2, 3, 3, 1, 2, 3, 1, 3, 2, 0, 3, 3, 3, 2, 3, 2, 3, 2, 3, 0, 0, 0, 3, 1, 3, 3, 2, 3, 3, 2, 0, 2, 0, 2, 2, 3, 3, 3, 2, 2, 2, 3, 2, 2, 2, 3, 3, 0, 2, 2, 2, 2, 2, 2, 2, 0, 2, 0, 0, 2, 2, 3, 2, 0, 3, 2, 2, 0, 2, 2, 3, 0, 3, 0, 0, 3, 3, 3, 2, 3, 3, 3, 0, 3, 0, 1, 0, 0, 3, 3, 1, 3, 0, 3, 2, 3, 3, 0, 2, 3, 3, 1, 2, 3, 3, 3, 3, 2, 0, 3, 3, 0, 1, 3, 0, 2, 2, 2, 2, 3, 0, 1, 3, 3, 2, 1, 1, 2, 0, 3, 3, 2, 2, 1, 1, 3, 3, 2, 3, 3, 3, 3, 2, 2, 2, 1, 0, 3, 2, 3, 3, 3, 3, 2, 1, 1, 3, 3, 3, 3, 3, 3, 2, 0, 0, 2, 1, 2, 2, 3, 3, 3, 3, 3, 3, 0, 0, 3, 2, 3, 3, 3, 0, 1, 3, 0, 3, 3, 2, 2, 3, 2, 2, 1, 2, 3, 3, 2, 3, 2, 3, 3, 2, 2, 2, 3, 2, 3, 0, 0, 0, 0, 0, 2, 3, 0, 2, 3, 3, 0, 3, 2, 3, 0, 3, 2, 3, 3, 2, 3, 2, 3, 2, 3, 3, 0, 1, 0, 0, 1, 2, 3, 2, 0, 0, 3, 0, 2, 2, 3, 1, 1, 3, 0, 0, 3, 3, 0, 3, 3, 0, 3, 1, 3, 2, 0, 2, 3, 2, 1, 3, 1, 3, 0, 1, 3, 3, 2, 3, 3, 3, 3, 3, 1, 2, 3, 3, 1, 2, 2, 3, 1, 2, 3, 3, 3, 1, 3, 0, 2, 1, 3, 0, 0, 2, 0, 3, 2, 0, 3, 0, 3, 3, 0, 3, 1, 3, 3, 1, 3, 2, 2, 3, 2, 3, 3, 2, 3, 2, 3, 2, 2, 2, 2, 0, 0, 1, 3, 2, 2, 0, 2, 3, 3, 0, 3, 3, 2, 2, 3, 2, 0, 1, 2, 3, 2, 0, 2, 2, 2, 3, 0, 2, 3, 0, 1, 0, 1, 3, 3, 0, 2, 3, 3, 3, 3, 3, 3, 2, 2, 3, 3, 3, 1, 2, 3, 2, 0, 2, 0, 1, 2, 3, 1, 2, 2, 2, 2, 3, 0, 3, 0, 3, 2, 3, 3, 3, 3, 3, 1, 0, 2, 3, 1, 3, 3, 2, 2, 0, 3, 2, 1, 1, 3, 3, 0, 3, 3, 1, 3, 0, 3, 0, 2, 3, 2, 3, 3, 3, 3, 3, 3, 2, 3, 3, 3, 2, 0, 3, 1, 0, 3, 2, 2, 2, 2, 1, 0, 2, 3, 1, 2, 3, 3, 0, 0, 3, 3, 3, 3, 3, 3, 3, 3, 1, 2, 1, 3, 3, 2, 0, 1, 2, 2, 3, 3, 3, 1, 3, 2, 0, 2, 3, 3, 3, 2, 3, 0, 0, 2, 3, 1, 1, 0, 0, 1, 3, 0, 2, 3, 0, 2, 3, 2, 3, 2, 3, 0, 3, 3, 3, 2, 3, 2, 0, 2, 1, 0, 3, 0, 3, 3, 3, 1, 2, 0, 1, 3, 0, 0, 2, 1, 1, 2, 3, 0, 3, 3, 2, 2, 3, 3, 3, 0, 3, 0, 3, 3, 3, 3, 3, 2, 3, 2, 3, 0, 0, 2, 1, 1, 1, 3, 0, 1, 0, 0, 3, 3, 3, 2, 3, 2, 0, 0, 3, 3, 3, 1, 3, 2, 2, 3, 3, 1, 3, 1, 2, 0, 1, 1, 0, 3, 3, 2, 3, 2, 0, 3, 2, 2, 3, 2, 3, 3, 2, 3, 0, 1, 2, 3, 3, 0, 0, 2, 3, 2, 1, 1, 2, 3, 2, 2, 1, 3, 2, 2, 3, 1, 0, 0, 2, 3, 3, 3, 1, 3, 3, 3, 3, 3, 3, 3, 2, 0, 3, 2, 2, 1, 2, 2, 2, 1, 3, 0, 0, 2, 0, 3, 3, 2, 0, 0, 3, 3, 2, 1, 2, 3, 3, 0, 3, 2, 3, 1, 0, 2, 2, 2, 0, 3, 0, 0, 0, 3, 2, 2, 3, 3, 0, 0, 3, 0, 2, 2, 3, 3, 2, 1, 0, 1, 2, 3, 2, 3, 2, 0, 0, 2, 3, 0, 3, 1, 3, 3, 2, 1, 0, 2, 3, 0, 3, 0, 3, 3, 3, 3, 1, 3, 2, 0, 2, 3, 2, 3, 1, 1, 0, 3, 2, 3, 3, 0, 3, 3, 1, 2, 3, 2, 2, 1, 3, 3, 2, 2, 2, 3, 0, 3, 3, 0, 3, 2, 3, 2, 1, 3, 1, 2, 3, 3, 3, 3, 2, 2, 1, 3, 1, 1, 3, 2, 0, 2, 3, 3, 1, 3, 3, 2, 3, 0, 3, 2, 1, 2, 3, 0, 0, 1, 3, 0, 3, 0, 2, 3, 3, 3, 3, 0, 2, 1, 2, 3, 2, 0, 3, 2, 2, 0, 2, 1, 2, 0, 0, 3, 3, 3, 3, 3, 3, 1, 1, 3, 0, 1, 3, 3, 3, 3, 2, 1, 3, 2, 3, 3, 3, 0, 3, 3, 0, 0, 2, 2, 3, 2, 1, 2, 1, 0, 2, 3, 3, 2, 3, 0, 1, 3, 3, 3, 3, 3, 2, 1, 2, 1, 0, 2, 1, 3, 3, 3, 2, 0, 2, 3, 0, 2, 2, 2, 0, 2, 0, 2, 2, 3, 3, 3, 3, 3, 0, 0, 2, 2, 3, 3, 2, 2, 3, 1, 1, 3, 2, 3, 0, 2, 3, 2, 0, 2, 3, 2, 1, 3, 3, 0, 3, 2, 3, 2, 2, 0, 1, 1, 2, 0, 1, 3, 0, 3, 3, 0, 1, 2, 3, 0, 3, 2, 0, 0, 3, 0, 2, 0, 2, 1, 2, 3, 3, 2, 3, 0, 3, 0, 0, 2, 3, 0, 1, 1, 3, 1, 3, 0, 0, 1, 2, 1, 3, 3, 3, 2, 2, 3, 2, 3, 0, 0, 0, 2, 2, 3, 3, 3, 1, 3, 2, 3, 0, 3, 2, 1, 0, 0, 2, 2, 0, 1, 1, 1, 3, 3, 3, 2, 3, 3, 2, 3, 3, 1, 3, 3, 2, 0, 2, 2, 0, 0, 1, 2, 2, 1, 2, 3, 2, 2, 3, 3, 1, 2, 3, 3, 0, 3, 0, 3, 1, 3, 3, 2, 2, 1, 0, 3, 3, 3, 0, 3, 3, 3, 3, 3, 3, 1, 1, 1, 2, 3, 3, 3, 1, 3, 3, 2, 3, 2, 2, 3, 3, 3, 3, 3, 2, 3, 3, 3, 3, 0, 3, 3, 2, 0, 1, 3, 3, 3, 3, 2, 3, 3, 3, 3, 2, 3, 1, 0, 2, 0, 3, 3, 0, 2, 3, 0, 2, 0, 1, 3, 2, 1, 3, 3, 2, 3, 0, 2, 2, 1, 3, 3, 2, 1, 3, 2, 3, 1, 0, 0, 2, 3, 0, 3, 3, 0, 2, 1, 3, 0, 3, 2, 2, 3, 2, 1, 3, 1, 2, 2, 2, 3, 2, 3, 3, 3, 3, 2, 3, 3, 3, 2, 0, 0, 3, 3, 2, 0, 0, 2, 3, 3, 1, 3, 2, 3, 1, 3, 3, 2, 2, 3, 3, 0, 1, 2, 0, 2, 0, 3, 1, 3, 1, 3, 2, 2, 2, 3, 0, 3, 2, 1, 3, 0, 3, 0, 2, 2, 0, 3, 3, 0, 3, 0, 3, 3, 3, 3, 2, 0, 0, 1, 2, 3, 2, 1, 1, 0, 1, 3, 3, 2, 1, 2, 3, 3, 2, 3, 1, 3, 1, 3, 1, 3, 2, 1, 0, 0, 3, 3, 3, 2, 3, 2, 2, 0, 3, 1, 1, 3, 1, 3, 3, 0, 1, 2, 3, 0, 0, 2, 2, 2, 3, 0, 3, 3, 2, 3, 0, 2, 2, 3, 2, 0, 2, 1, 0, 3, 3, 2, 3, 2, 3, 3, 2, 2, 2, 0, 2, 0, 3, 0, 3, 3, 3, 3, 2, 0, 3, 1, 1, 2, 0, 3, 0, 3, 3, 2, 3, 2, 0, 1, 3, 3, 2, 2, 2, 2, 2, 1, 2, 3, 2, 2, 3, 1, 3, 2, 1, 2, 2, 2, 2, 2, 3, 2, 2, 3, 3, 2, 3, 1, 2, 2, 2, 3, 3, 0, 3, 1, 2, 3, 3, 2, 1, 2, 3, 2, 3, 2, 3, 3, 3, 2, 3, 3, 0, 3, 0, 2, 3, 1, 1, 2, 3, 0, 3, 0, 0, 0, 1, 2, 1, 2, 3, 1, 0, 2, 3, 3, 0, 3, 3, 3, 3, 2, 0, 2, 3, 3, 1, 2, 3, 0, 2, 0, 0, 3, 0, 3, 2, 0, 2, 0, 0, 3, 3, 2, 3, 1, 1, 2, 3, 3, 2, 3, 2, 3, 0, 1, 0, 2, 3, 0, 2, 2, 3, 0, 1, 3, 1, 1, 2, 0, 3, 2, 0, 2, 0, 1, 2, 3, 1, 0, 3, 3, 0, 2, 1, 3, 3, 2, 3, 2, 1, 0, 2, 3, 3, 1, 0, 1, 0, 3, 1, 2, 2, 0, 2, 2, 1, 0, 3, 2, 3, 3, 3, 2, 1, 0, 0, 3, 3, 2, 2, 2, 2, 3, 3, 2, 0, 2, 3, 2, 2, 2, 1, 3, 3, 0, 3, 0, 2, 1, 0, 1, 3, 1, 3, 1, 3, 2, 2, 3, 2, 2, 1, 3, 0, 1, 1, 2, 1, 2, 3, 2, 3, 3, 3, 2, 2, 2, 1, 0, 0, 3, 3, 3, 2, 2, 2, 0, 3, 2, 3, 3, 2, 2, 3, 2, 3, 0, 0, 3, 3, 0, 3, 3, 3, 0, 2, 2, 0, 3, 2, 3, 3, 0, 2, 3, 3, 3, 3, 3, 3, 3, 3, 3, 2, 2, 2, 3, 2, 0, 0, 3, 0, 0, 1, 1, 3, 3, 3, 3, 0, 0, 3, 0, 2, 3, 3, 0, 0, 2, 3, 3, 3, 3, 1, 2, 2, 3, 3, 3, 2, 1, 3, 3, 3, 3, 3, 3, 2, 0, 2, 1, 3, 3, 1, 2, 0, 2, 2, 0, 3, 3, 0, 3, 2, 2, 2, 3, 2, 3, 3, 3, 3, 2, 2, 1, 2, 3, 0, 3, 3, 2, 3, 0, 2, 3, 3, 3, 1, 3, 3, 0, 3, 3, 2, 3, 0, 3, 2, 3, 0, 1, 0, 0, 2, 2, 0, 3, 3, 3, 3, 3, 2, 3, 3, 3, 3, 0, 0, 3, 2, 0, 2, 0, 3, 1, 3, 1, 3, 3, 2, 3, 3, 2, 1, 3, 2, 3, 2, 1, 2, 3, 2, 3, 2, 2, 1, 2, 3, 3, 0, 2, 3, 2, 3, 1, 0, 1, 2, 0, 2, 2, 3, 2, 1, 0, 3, 1, 3, 3, 3, 1, 3, 1, 3, 3, 3, 2, 2, 3, 0, 0, 2, 1, 2, 2, 0, 2, 1, 2, 3, 1, 2, 2, 2, 1, 0, 2, 3, 1, 1, 3, 0, 0, 2, 0, 1, 2, 3, 2, 2, 2, 0, 2, 0, 3, 3, 0, 3, 2, 2, 3, 1, 3, 3, 3, 1, 2, 3, 2, 0, 0, 1, 2, 0, 2, 1, 0, 0, 2, 2, 2, 2, 2, 2, 3, 2, 3, 0, 2, 0, 3, 3, 2, 3, 0, 0, 3, 3, 3, 1, 3, 3, 2, 3, 2, 3, 1, 2, 3, 0, 1, 3, 3, 3, 1, 3, 2, 2, 3, 3, 0, 0, 3, 0, 0, 1, 2, 3, 0, 2, 2, 3, 2, 0, 0, 3, 3, 3, 2, 1, 3, 3, 2, 0, 3, 3, 0, 3, 2, 0, 3, 2, 1, 2, 3, 3, 3, 2, 3, 2, 2, 1, 3, 3, 2, 2, 0, 1, 3, 2, 2, 3, 2, 2, 0, 3, 3, 1, 2, 0, 2, 3, 2, 2, 0, 2, 0, 1, 3, 3, 3, 0, 3, 3, 0, 2, 2, 2, 1, 3, 3, 3, 0, 2, 0, 0, 2, 3, 3, 3, 0, 1, 3, 2, 1, 1, 1, 1, 2, 1, 3, 0, 0, 2, 3, 1, 0, 3, 3, 3, 2, 0, 3, 3, 3, 1, 0, 2, 3, 2, 2, 0, 2, 0, 0, 2, 2, 1, 0, 2, 1, 2, 3, 1, 3, 3, 2, 2, 3, 3, 2, 2, 3, 2, 3, 1, 3, 2, 3, 2, 1, 3, 3, 3, 3, 0, 0, 0, 3, 3, 2, 2, 1, 0, 1, 3, 3, 1, 2, 2, 3, 2, 0, 3, 2, 1, 2, 2, 0, 3, 2, 2, 3, 3, 0, 3, 2, 0, 0, 2, 2, 0, 3, 0, 3, 2, 3, 2, 1, 3, 2, 3, 3, 0, 0, 3, 2, 0, 3, 3, 3, 2, 0, 3, 3, 3, 2, 1, 0, 3, 0, 3, 0, 2, 3, 3, 2, 3, 2, 2, 1, 0, 0, 2, 2, 0, 2, 2, 0, 3, 3, 1, 3, 1, 1, 3, 3, 2, 3, 2, 3, 3, 3, 3, 3, 1, 0, 3, 0, 3, 0, 0, 1, 1, 1, 3, 2, 3, 1, 2, 2, 3, 2, 3, 0, 2, 0, 3, 1, 3, 1, 1, 1, 3, 1, 3, 0, 0, 1, 2, 2, 0, 0, 0, 1, 2, 1, 3, 1, 3, 0, 0, 1, 1, 2, 2, 2, 3, 2, 2, 2, 2, 3, 1, 0, 1, 0, 0, 3, 0, 3, 2, 3, 0, 3, 2, 3, 0, 2, 2, 3, 0, 0, 0, 0, 3, 2, 0, 2, 0, 3, 3, 2, 2, 3, 1, 0, 2, 1, 3, 3, 0, 2, 1, 3, 0, 0, 3, 3, 1, 2, 2, 3, 0, 2, 3, 3, 3, 3, 2, 2, 3, 0, 3, 3, 3, 0, 1, 0, 0, 1, 3, 0, 0, 3, 3, 2, 2, 0, 3, 3, 0, 3, 3, 1, 2, 0, 3, 0, 0, 3, 3, 2, 0, 0, 2, 1, 3, 0, 3, 0, 3, 3, 3, 2, 0, 2, 3, 3, 1, 2, 2, 2, 2, 2, 2, 0, 1, 0, 0, 3, 3, 2, 2, 0, 2, 2, 0, 3, 2, 3, 0, 0, 2, 3, 3, 2, 3, 3, 0, 3, 2, 3, 3, 3, 2, 0, 1, 3, 1, 1, 3, 2, 3, 3, 1, 1, 3, 3, 0, 0, 2, 3, 3, 3, 0, 2, 3, 3, 0, 0, 2, 2, 2, 3, 0, 3, 0, 3, 2, 3, 0, 1, 1, 0, 3, 3, 0, 3, 1, 3, 3, 2, 3, 2, 2, 1, 0, 0, 0, 1, 3, 3, 2, 0, 2, 3, 1, 2, 1, 3, 0, 0, 3, 3, 3, 2, 0, 2, 1, 0, 3, 0, 1, 2, 0, 3, 3, 1, 3, 2, 3, 0, 3, 3, 2, 2, 3, 3, 0, 3, 3, 0, 3, 0, 1, 3, 2, 1, 3, 2, 3, 0, 0, 1, 3, 2, 2, 2, 3, 3, 3, 0, 0, 3, 3, 3, 3, 2, 3, 1, 3, 1, 2, 3, 3, 3, 3, 0, 2, 1, 3, 3, 3, 2, 2, 2, 2, 3, 2, 3, 3, 2, 3, 3, 3, 3, 0, 0, 0, 3, 2, 2, 2, 3, 2, 2, 2, 0, 2, 3, 3, 0, 3, 2, 0, 2, 3, 3, 0, 3, 3, 2, 1, 1, 0, 2, 3, 3, 2, 2, 3, 1, 2, 2, 3, 2, 0, 2, 3, 1, 2, 3, 3, 1, 3, 2, 3, 2, 3, 2, 2, 3, 3, 0, 2, 2, 3, 0, 2, 3, 2, 3, 3, 2, 0, 1, 3, 1, 3, 2, 0, 2, 1, 3, 2, 3, 3, 2, 3, 2, 0, 3, 2, 0, 1, 2, 2, 1, 1, 3, 0, 3, 3, 3, 0, 3, 2, 1, 3, 1, 1, 0, 3, 0, 2, 0, 2, 1, 3, 3, 3, 3, 3, 2, 2, 3, 3, 2, 3, 2, 0, 2, 0, 2, 2, 3, 0, 1, 2, 3, 2, 3, 3, 0, 0, 3, 3, 1, 1, 3, 3, 1, 2, 3, 0, 3, 3, 3, 2, 0, 1, 2, 3, 3, 2, 3, 3, 1, 0, 0, 0, 3, 0, 3, 2, 3, 2, 2, 1, 3, 3, 3, 2, 3, 2, 2, 3, 3, 2, 2, 2, 3, 2, 3, 2, 3, 1, 0, 3, 0, 0, 3, 2, 1, 3, 2, 1, 1, 2, 3, 1, 3, 2, 2, 2, 1, 2, 2, 3, 1, 2, 2, 3, 2, 2, 0, 0, 3, 2, 3, 2, 1, 2, 0, 2, 1, 1, 3, 1, 1, 2, 3, 2, 3, 3, 1, 3, 1, 1, 1, 2, 3, 0, 3, 0, 3, 2, 3, 3, 1, 2, 3, 3, 1, 0, 2, 0, 0, 0, 0, 3, 2, 3, 2, 3, 0, 3, 3, 0, 2, 3, 0, 2, 3, 3, 3, 0, 3, 0, 0, 3, 0, 1, 2, 3, 0, 2, 3, 3, 0, 3, 3, 0, 2, 0, 0, 1, 2, 3, 3, 3, 0, 1, 0, 3, 3, 1, 3, 1, 1, 2, 3, 3, 3, 0, 1, 2, 3, 0, 0, 0, 2, 3, 0, 2, 3, 2, 2, 3, 3, 3, 3, 2, 2, 2, 3, 3, 0, 3, 1, 0, 0, 0, 2, 3, 3, 3, 3, 1, 2, 2, 1, 3, 3, 0, 2, 2, 1, 3, 0, 3, 2, 3, 1, 3, 1, 3, 3, 2, 2, 3, 2, 2, 3, 3, 3, 3, 3, 2, 3, 2, 2, 3, 3, 1, 2, 0, 2, 3, 0, 2, 3, 3, 1, 0, 3, 3, 2, 0, 2, 3, 3, 2, 2, 3, 2, 3, 2, 2, 1, 3, 3, 3, 0, 2, 1, 3, 3, 2, 0, 3, 2, 1, 3, 3, 1, 3, 2, 0, 3, 2, 0, 3, 2, 3, 2, 2, 3, 3, 1, 2, 2, 3, 3, 2, 2, 1, 3, 3, 1, 3, 3, 3, 2, 0, 2, 1, 1, 2, 3, 3, 3, 2, 3, 2, 0, 3, 3, 1, 2, 1, 2, 2, 3, 2, 1, 1, 1, 2, 3, 1, 0, 3, 2, 3, 0, 0, 0, 3, 3, 3, 3, 3, 2, 2, 3, 2, 3, 0, 1, 0, 2, 2, 2, 1, 1, 0, 1, 2, 3, 2, 3, 2, 2, 3, 3, 3, 0, 0, 3, 0, 3, 2, 3, 2, 3, 0, 3, 2, 1, 2, 0, 3, 1, 3, 3, 2, 3, 3, 3, 0, 2, 3, 0, 2, 3, 3, 2, 2, 2, 2, 1, 3, 0, 2, 3, 3, 1, 3, 2, 2, 3, 0, 3, 2, 0, 0, 1, 1, 2, 3, 3, 3, 1, 0, 2, 2, 0, 2, 2, 3, 2, 3, 3, 3, 2, 1, 2, 3, 3, 3, 0, 3, 1, 3, 2, 2, 2, 3, 3, 3, 0, 3, 3, 2, 2, 2, 3, 3, 2, 1, 3, 3, 2, 1, 0, 2, 3, 3, 1, 2, 2, 0, 3, 2, 0, 3, 2, 3, 3, 0, 2, 3, 3, 0, 3, 2, 0, 2, 2, 2, 2, 1, 2, 3, 2, 0, 3, 2, 1, 3, 1, 3, 1, 2, 2, 2, 2, 0, 3, 1, 2, 1, 3, 2, 2, 2, 3, 3, 0, 2, 3, 1, 2, 2, 3, 3, 3, 2, 1, 3, 0, 2, 0, 2, 3, 1, 2, 3, 1, 0, 3, 3, 2, 2, 3, 3, 2, 1, 2, 1, 3, 3, 3, 0, 3, 2, 3, 0, 0, 0, 3, 3, 2, 3, 1, 3, 3, 3, 3, 0, 3, 3, 3, 3, 3, 0, 3, 2, 1, 3, 2, 3, 2, 3, 2, 0, 3, 1, 0, 2, 3, 3, 2, 3, 3, 1, 0, 0, 3, 3, 2, 2, 0, 2, 2, 0, 0, 1, 3, 3, 3, 2, 0, 3, 2, 3, 2, 3, 1, 3, 0, 3, 0, 3, 3, 0, 3, 2, 3, 0, 3, 3, 3, 3, 2, 1, 3, 3, 3, 0, 3, 0, 3, 1, 3, 0, 3, 3, 3, 0, 1, 1, 3, 1, 3, 2, 3, 0, 0, 3, 3, 0, 3, 3, 0, 3, 2, 1, 1, 1, 2, 2, 2, 3, 0, 0, 3, 0, 3, 3, 2, 3, 0, 2, 2, 2, 2, 3, 3, 3, 2, 3, 3, 0, 3, 3, 3, 2, 2, 2, 2, 3, 1, 2, 2, 2, 2, 3, 0, 2, 1, 1, 2, 3, 2, 2, 3, 3, 3, 0, 1, 3, 3, 1, 3, 3, 0, 1, 2, 1, 2, 3, 3, 3, 2, 0, 3, 3, 1, 3, 0, 1, 2, 2, 3, 1, 2, 0, 0, 3, 3, 3, 3, 2, 2, 0, 0, 3, 0, 1, 3, 3, 3, 3, 1, 2, 3, 0, 3, 3, 1, 3, 0, 2, 0, 1, 3, 2, 0, 3, 0, 0, 3, 3, 3, 3, 0, 2, 2, 2, 2, 0, 2, 3, 3, 3, 3, 1, 3, 2, 1, 1, 2, 3, 0, 3, 3, 3, 0, 3, 3, 3, 2, 3, 0, 2, 1, 3, 3, 2, 3, 3, 0, 1, 3, 3, 2, 1, 2, 2, 3, 1, 2, 3, 2, 0, 1, 1, 2, 2, 3, 0, 2, 2, 2, 3, 2, 1, 0, 2, 0, 3, 3, 2, 0, 1, 3, 3, 0, 0, 0, 2, 3, 1, 1, 3, 3, 2, 1, 3, 3, 1, 1, 3, 2, 3, 3, 3, 0, 2, 1, 1, 2, 1, 0, 1, 3, 0, 2, 2, 0, 3, 3, 1, 0, 3, 1, 0, 3, 3, 3, 3, 1, 3, 2, 2, 0, 3, 0, 3, 1, 3, 3, 3, 3, 3, 2, 2, 2, 3, 3, 3, 3, 1, 0, 2, 3, 3, 3, 0, 3, 2, 1, 1, 3, 3, 1, 3, 1, 3, 3, 3, 2, 3, 0, 1, 0, 3, 2, 3, 1, 2, 1, 2, 0, 1, 2, 0, 3, 0, 2, 3, 3, 2, 3, 2, 3, 3, 2, 3, 3, 3, 2, 1, 3, 3, 3, 3, 3, 2, 3, 0, 1, 3, 3, 0, 0, 1, 1, 1, 2, 1, 0, 2, 0, 0, 3, 2, 2, 2, 0, 2, 0, 3, 1, 3, 3, 1, 3, 2, 2, 3, 3, 1, 3, 2, 3, 0, 3, 3, 0, 0, 1, 1, 0, 3, 2, 3, 2, 3, 3, 3, 3, 0, 3, 3, 0, 3, 3, 0, 2, 1, 1, 3, 0, 3, 3, 2, 2, 3, 2, 2, 2, 0, 3, 3, 2, 2, 3, 3, 3, 2, 3, 0, 0, 3, 3, 3, 3, 3, 3, 0, 2, 3, 3, 2, 3, 3, 2, 3, 3, 3, 1, 2, 2, 3, 2, 2, 2, 3, 3, 3, 2, 3, 3, 0, 1, 1, 3, 2, 0, 0, 3, 3, 2, 3, 3, 2, 0, 1, 1, 3, 1, 2, 2, 3, 2, 1, 2, 3, 0, 2, 0, 3, 2, 2, 1, 3, 2, 0, 3, 1, 3, 2, 2, 2, 3, 1, 0, 3, 2, 3, 1, 0, 1, 0, 3, 0, 2, 3, 3, 3, 2, 2, 3, 3, 3, 2, 3, 3, 1, 2, 2, 1, 2, 0, 0, 3, 2, 2, 2, 2, 2, 3, 3, 1, 0, 3, 1, 3, 3, 3, 3, 0, 2, 0, 2, 0, 3, 0, 2, 1, 3, 0, 2, 2, 0, 1, 2, 3, 2, 0, 3, 3, 3, 2, 2, 3, 2, 3, 2, 0, 2, 3, 2, 0, 3, 2, 3, 0, 2, 2, 2, 1, 0, 2, 0, 3, 0, 2, 2, 1, 2, 3, 3, 3, 0, 3, 3, 1, 2, 3, 1, 3, 3, 3, 3, 0, 2, 0, 1, 0, 0, 2, 2, 0, 3, 3, 2, 0, 3, 0, 3, 2, 2, 1, 2, 3, 1, 1, 3, 3, 2, 0, 2, 0, 0, 3, 3, 3, 3, 2, 2, 2, 2, 1, 3, 3, 3, 0, 3, 3, 3, 1, 0, 2, 1, 0, 2, 1, 3, 0, 2, 3, 2, 3, 2, 1, 2, 3, 3, 0, 1, 2, 0, 0, 2, 0, 3, 0, 0, 1, 3, 3, 3, 3, 3, 2, 3, 0, 2, 3, 2, 0, 3, 3, 3, 3, 1, 0, 2, 2, 1, 2, 0, 3, 2, 3, 0, 3, 3, 3, 3, 3, 3, 0, 3, 3, 3, 3, 3, 0, 0, 3, 3, 3, 2, 0, 3, 3, 1, 1, 2, 3, 0, 0, 1, 3, 3, 1, 0, 3, 1, 3, 2, 3, 2, 0, 3, 2, 2, 3, 1, 2, 3, 0, 3, 1, 2, 2, 3, 2, 3, 0, 3, 3, 3, 0, 3, 2, 0, 1, 3, 2, 0, 2, 0, 3, 0, 3, 1, 3, 0, 3, 3, 3, 2, 1, 1, 1, 2, 2, 3, 3, 3, 2, 2, 2, 2, 2, 3, 0, 3, 3, 0, 2, 3, 3, 0, 0, 2, 3, 0, 1, 3, 3, 0, 2, 3, 3, 2, 2, 3, 2, 0, 2, 2, 3, 1, 2, 2, 3, 3, 3, 3, 3, 3, 3, 2, 2, 3, 3, 1, 1, 2, 0, 2, 2, 3, 3, 3, 0, 3, 3, 3, 3, 2, 2, 3, 3, 2, 3, 0, 0, 2, 3, 0, 3, 1, 2, 0, 2, 0, 2, 1, 0, 0, 0, 3, 3, 3, 0, 1, 3, 2, 3, 2, 2, 0, 2, 2, 0, 2, 3, 3, 3, 3, 2, 0, 3, 1, 3, 3, 3, 3, 0, 0, 3, 3, 2, 0, 2, 3, 3, 3, 0, 3, 1, 3, 2, 3, 3, 0, 2, 3, 3, 3, 2, 2, 0, 0, 2, 2, 2, 2, 3, 2, 1, 3, 3, 3, 3, 0, 3, 2, 0, 3, 0, 1, 3, 0, 0, 2, 1, 2, 3, 2, 1, 2, 3, 3, 0, 1, 3, 2, 3, 1, 3, 0, 3, 0, 1, 1, 2, 2, 1, 2, 3, 1, 0, 3, 1, 3, 3, 0, 0, 3, 3, 2, 0, 1, 2, 3, 0, 0, 1, 2, 0, 1, 0, 2, 0, 0, 1, 2, 3, 1, 1, 1, 0, 3, 3, 3, 0, 2, 3, 2, 0, 3, 3, 0, 3, 2, 1, 2, 1, 0, 0, 3, 1, 2, 3, 3, 2, 2, 2, 1, 2, 2, 3, 2, 3, 3, 3, 2, 0, 2, 3, 3, 0, 1, 3, 0, 0, 2, 3, 3, 3, 2, 2, 2, 2, 2, 3, 2, 1, 3, 2, 0, 3, 3, 3, 3, 3, 1, 2, 2, 0, 3, 1, 0, 2, 1, 3, 3, 3, 0, 0, 3, 2, 0, 0, 1, 2, 2, 3, 2, 2, 1, 1, 2, 0, 2, 3, 0, 0, 2, 0, 1, 3, 0, 3, 3, 3, 3, 2, 2, 3, 0, 3, 2, 0, 2, 3, 2, 3, 2, 2, 0, 3, 2, 3, 1, 3, 2, 0, 0, 2, 0, 2, 3, 2, 1, 2, 0, 1, 1, 1, 3, 3, 3, 3, 3, 2, 0, 1, 3, 0, 2, 3, 0, 3, 2, 0, 2, 3, 1, 3, 2, 3, 2, 0, 2, 3, 2, 2, 0, 2, 1, 3, 0, 2, 2, 0, 2, 3, 2, 2, 0, 0, 0, 2, 3, 0, 3, 1, 2, 1, 2, 2, 1, 2, 3, 3, 2, 3, 2, 2, 2, 3, 1, 3, 1, 1, 2, 3, 2, 2, 3, 2, 3, 0, 0, 3, 0, 2, 0, 3, 1, 3, 3, 2, 3, 3, 1, 3, 1, 2, 3, 1, 1, 2, 2, 3, 0, 2, 1, 0, 3, 0, 2, 3, 2, 3, 2, 2, 0, 0, 2, 2, 1, 1, 3, 3, 3, 1, 0, 0, 2, 1, 3, 1, 1, 3, 1, 2, 2, 3, 0, 3, 3, 3, 3, 2, 1, 0, 1, 3, 0, 2, 2, 3, 2, 2, 3, 1, 0, 0, 1, 2, 3, 3, 3, 0, 2, 2, 1, 3, 3, 3, 3, 1, 3, 2, 0, 2, 2, 3, 1, 2, 3, 3, 2, 0, 3, 3, 3, 3, 2, 3, 2, 3, 2, 1, 0, 3, 2, 2, 3, 3, 2, 3, 3, 3, 3, 3, 3, 0, 2, 0, 0, 0, 2, 3, 1, 3, 1, 1, 2, 0, 0, 3, 3, 2, 3, 1, 3, 1, 3, 1, 0, 3, 3, 2, 1, 3, 3, 2, 2, 2, 1, 0, 3, 2, 3, 3, 1, 2, 1, 0, 2, 3, 0, 3, 1, 2, 1, 2, 0, 2, 0, 3, 3, 0, 3, 0, 1, 3, 2, 0, 1, 2, 0, 0, 2, 1, 3, 3, 0, 3, 1, 0, 3, 2, 0, 3, 3, 0, 2, 1, 3, 0, 3, 1, 3, 1, 0, 2, 3, 3, 0, 0, 2, 3, 3, 2, 3, 3, 3, 1, 2, 3, 2, 3, 2, 2, 2, 0, 3, 2, 1, 3, 3, 1, 3, 3, 3, 3, 2, 0, 0, 0, 2, 2, 0, 1, 3, 0, 2, 3, 2, 0, 2, 2, 3, 2, 2, 2, 2, 2, 3, 1, 3, 2, 2, 3, 2, 3, 3, 2, 3, 3, 2, 2, 2, 1, 3, 3, 2, 2, 2, 3, 2, 3, 0, 0, 2, 3, 2, 1, 3, 3, 2, 3, 3, 0, 3, 2, 0, 1, 0, 0, 2, 1, 2, 0, 3, 2, 3, 3, 3, 2, 2, 3, 3, 3, 3, 2, 0, 3, 2, 2, 1, 2, 0, 0, 3, 3, 3, 3, 1, 2, 3, 2, 0, 3, 3, 2, 3, 3, 0, 0, 0, 1, 1, 1, 3, 2, 3, 2, 2, 1, 2, 0, 3, 3, 0, 3, 3, 3, 1, 2, 2, 0, 1, 3, 3, 3, 3, 3, 2, 3, 2, 0, 3, 2, 0, 2, 3, 2, 3, 0, 3, 1, 3, 1, 3, 2, 1, 2, 3, 1, 2, 3, 3, 0, 0, 3, 3, 0, 3, 2, 2, 3, 2, 3, 0, 2, 0, 0, 3, 2, 3, 2, 0, 2, 3, 3, 2, 3, 2, 2, 2, 3, 3, 3, 2, 3, 2, 0, 3, 0, 3, 0, 0, 3, 3, 2, 3, 1, 3, 2, 2, 1, 3, 0, 1, 2, 2, 2, 2, 2, 0, 2, 1, 0, 1, 3, 3, 2, 1, 2, 2, 3, 2, 2, 2, 0, 0, 0, 3, 0, 3, 0, 3, 2, 1, 3, 0, 1, 1, 2, 3, 0, 1, 1, 0, 3, 2, 2, 0, 0, 2, 3, 0, 3, 2, 3, 3, 2, 2, 3, 0, 3, 0, 0, 3, 2, 3, 3, 1, 3, 1, 2, 3, 1, 1, 3, 2, 3, 1, 1, 2, 3, 1, 1, 1, 2, 3, 3, 2, 3, 0, 0, 3, 1, 1, 0, 3, 2, 1, 2, 2, 3, 3, 3, 3, 3, 2, 0, 3, 2, 2, 3, 3, 3, 2, 3, 3, 0, 0, 2, 3, 1, 3, 2, 1, 2, 3, 0, 0, 0, 2, 2, 2, 0, 1, 3, 1, 0, 0, 1, 3, 2, 3, 3, 2, 3, 3, 3, 3, 2, 1, 0, 0, 3, 0, 3, 3, 3, 2, 3, 2, 3, 2, 3, 1, 0, 3, 2, 1, 1, 0, 3, 1, 0, 0, 3, 3, 3, 2, 3, 2, 2, 3, 1, 1, 3, 0, 0, 0, 3, 0, 2, 2, 2, 0, 1, 3, 3, 2, 3, 2, 0, 0, 3, 0, 3, 0, 0, 0, 3, 2, 1, 1, 1, 2, 1, 3, 2, 2, 3, 3, 2, 2, 3, 3, 2, 2, 3, 1, 3, 2, 0, 2, 2, 2, 1, 0, 2, 3, 3, 1, 3, 3, 2, 0, 1, 0, 0, 0, 3, 0, 0, 2, 0, 2, 1, 2, 3, 0, 3, 3, 3, 0, 3, 3, 3, 0, 2, 3, 1, 0, 2, 2, 1, 1, 3, 1, 3, 2, 2, 3, 2, 2, 3, 3, 2, 3, 2, 3, 3, 1, 1, 3, 3, 0, 0, 0, 2, 2, 3, 3, 2, 1, 3, 3, 2, 3, 3, 3, 3, 0, 2, 1, 2, 3, 3, 3, 0, 0, 0, 0, 0, 2, 3, 0, 0, 2, 0, 2, 3, 2, 2, 3, 1, 3, 0, 2, 0, 0, 2, 3, 0, 0, 2, 2, 3, 2, 1, 0, 3, 0, 0, 1, 1, 0, 3, 0, 0, 2, 0, 2, 0, 3, 3, 3, 3, 3, 3, 3, 2, 0, 0, 3, 2, 0, 0, 2, 2, 2, 2, 2, 1, 3, 0, 3, 0, 2, 3, 3, 3, 3, 3, 2, 0, 0, 3, 1, 0, 2, 3, 2, 3, 0, 3, 2, 2, 2, 2, 3, 2, 0, 3, 3, 1, 2, 3, 2, 3, 3, 2, 3, 2, 2, 0, 2, 2, 1, 0, 0, 1, 3, 1, 1, 0, 2, 2, 1, 2, 3, 2, 0, 1, 2, 2, 2, 2, 1, 0, 0, 3, 1, 3, 1, 0, 2, 2, 2, 2, 3, 1, 0, 1, 1, 0, 0, 3, 2, 1, 0, 3, 0, 2, 3, 0, 3, 2, 2, 0, 3, 3, 2, 3, 0, 1, 2, 0, 0, 3, 2, 3, 0, 3, 2, 1, 1, 0, 1, 2, 0, 3, 2, 3, 3, 0, 1, 2, 3, 3, 1, 2, 0, 0, 3, 0, 0, 3, 3, 1, 0, 3, 2, 2, 0, 2, 3, 3, 2, 0, 3, 2, 3, 0, 1, 3, 0, 2, 2, 0, 2, 3, 0, 3, 0, 3, 2, 0, 2, 3, 3, 0, 3, 3, 2, 1, 3, 2, 1, 1, 3, 3, 2, 3, 3, 3, 2, 3, 3, 0, 3, 3, 2, 3, 0, 0, 0, 3, 3, 2, 0, 0, 0, 2, 1, 1, 1, 2, 3, 3, 2, 2, 1, 3, 0, 3, 1, 3, 3, 3, 2, 3, 3, 3, 0, 1, 0, 1, 1, 3, 0, 2, 3, 2, 0, 0, 3, 1, 0, 2, 3, 3, 3, 3, 3, 0, 3, 1, 0, 2, 0, 2, 2, 1, 3, 2, 0, 0, 2, 2, 2, 3, 0, 3, 3, 3, 2, 0, 2, 3, 0, 3, 3, 3, 3, 2, 2, 2, 3, 3, 0, 3, 3, 2, 3, 1, 2, 3, 3, 1, 2, 0, 3, 0, 3, 3, 3, 1, 1, 0, 2, 3, 3, 3, 0, 1, 1, 3, 3, 3, 0, 3, 0, 1, 2, 0, 3, 0, 3, 3, 2, 3, 0, 3, 1, 2, 3, 3, 3, 3, 2, 1, 0, 3, 2, 0, 2, 3, 3, 2, 2, 3, 3, 1, 3, 1, 0, 1, 3, 1, 2, 1, 3, 0, 3, 1, 2, 2, 3, 0, 2, 3, 2, 2, 1, 3, 3, 3, 2, 2, 2, 3, 2, 1, 3, 3, 3, 3, 0, 3, 3, 2, 3, 2, 1, 2, 1, 3, 0, 2, 3, 2, 0, 2, 2, 0, 0, 3, 2, 0, 2, 3, 3, 3, 2, 0, 1, 1, 2, 3, 3, 1, 0, 2, 3, 0, 3, 2, 0, 1, 3, 1, 2, 3, 3, 1, 2, 2, 3, 3, 3, 2, 3, 2, 2, 3, 2, 3, 1, 3, 2, 2, 0, 3, 3, 0, 2, 2, 0, 0, 2, 0, 2, 2, 0, 3, 0, 1, 2, 2, 0, 3, 2, 2, 2, 0, 2, 2, 3, 2, 3, 3, 3, 0, 3, 3, 1, 2, 3, 3, 1, 2, 0, 3, 2, 0, 0, 3, 0, 3, 3, 3, 0, 2, 1, 0, 3, 3, 0, 0, 3, 0, 2, 1, 0, 3, 2, 1, 3, 1, 3, 2, 3, 2, 2, 1, 3, 3, 1, 2, 2, 0, 0, 2, 2, 1, 2, 0, 2, 0, 0, 0, 3, 3, 3, 2, 2, 3, 3, 3, 1, 0, 1, 3, 0, 1, 0, 2, 1, 3, 3, 2, 3, 0, 3, 3, 2, 3, 0, 0, 0, 3, 1, 3, 1, 0, 2, 1, 0, 3, 3, 1, 3, 2, 2, 1, 1, 2, 3, 0, 3, 2, 2, 0, 1, 0, 2, 3, 2, 3, 3, 3, 3, 3, 2, 3, 0, 3, 0, 0, 3, 1, 1, 2, 2, 0, 2, 1, 3, 1, 1, 2, 1, 3, 3, 3, 3, 3, 2, 3, 2, 3, 2, 0, 3, 2, 3, 1, 0, 1, 3, 3, 2, 3, 1, 2, 0, 3, 3, 3, 1, 3, 3, 0, 3, 3, 3, 1, 1, 1, 1, 1, 1, 3, 0, 3, 2, 3, 2, 3, 3, 3, 3, 3, 2, 3, 3, 2, 2, 3, 2, 3, 2, 3, 3, 2, 0, 3, 1, 2, 2, 2, 3, 1, 2, 3, 3, 2, 1, 2, 3, 3, 2, 3, 2, 0, 3, 0, 3, 1, 0, 3, 0, 3, 3, 3, 3, 3, 3, 0, 3, 3, 3, 1, 3, 0, 2, 3, 0, 3, 2, 3, 0, 2, 3, 2, 2, 3, 1, 1, 0, 3, 3, 0, 2, 3, 1, 0, 3, 2, 1, 3, 3, 3, 2, 1, 2, 3, 3, 3, 1, 2, 0, 2, 2, 2, 1, 1, 1, 2, 1, 2, 3, 0, 2, 3, 3, 2, 0, 2, 3, 0, 2, 1, 3, 2, 1, 2, 1, 0, 2, 3, 3, 0, 2, 2, 3, 3, 3, 2, 3, 2, 3, 3, 3, 2, 2, 3, 1, 2, 3, 0, 1, 0, 3, 3, 1, 3, 2, 3, 2, 2, 0, 3, 2, 1, 3, 1, 3, 0, 3, 3, 0, 0, 2, 2, 1, 3, 2, 0, 3, 3, 1, 3, 3, 1, 0, 3, 2, 0, 3, 3, 2, 3, 0, 2, 3, 2, 3, 1, 0, 3, 0, 2, 2, 3, 0, 3, 2, 0, 1, 0, 3, 1, 2, 2, 3, 0, 3, 0, 2, 2, 2, 3, 3, 3, 2, 3, 3, 2, 1, 0, 3, 2, 3, 0, 3, 1, 0, 2, 3, 2, 1, 3, 1, 3, 2, 0, 1, 2, 3, 1, 2, 1, 0, 2, 2, 3, 3, 3, 3, 0, 2, 0, 2, 3, 2, 0, 2, 3, 2, 2, 0, 0, 2, 0, 3, 0, 3, 3, 2, 2, 2, 3, 0, 3, 3, 2, 1, 2, 0, 1, 3, 1, 2, 3, 0, 3, 1, 3, 3, 3, 0, 2, 2, 0, 3, 0, 3, 3, 0, 1, 3, 3, 2, 2, 0, 3, 3, 2, 2, 3, 3, 3, 3, 3, 2, 3, 1, 2, 3, 1, 1, 3, 2, 2, 2, 3, 2, 3, 2, 3, 2, 3, 2, 2, 3, 2, 1, 1, 3, 2, 3, 0, 3, 3, 2, 3, 0, 3, 2, 2, 1, 2, 2, 0, 0, 0, 2, 3, 3, 3, 0, 0, 3, 0, 2, 2, 1, 3, 0, 1, 1, 3, 1, 2, 3, 0, 2, 0, 3, 0, 3, 0, 3, 3, 3, 2, 3, 3, 3, 2, 3, 3, 2, 3, 3, 0, 3, 0, 2, 3, 2, 0, 3, 1, 2, 3, 3, 2, 0, 0, 3, 0, 2, 3, 3, 0, 3, 0, 2, 3, 3, 0, 3, 1, 2, 3, 3, 1, 3, 0, 3, 3, 1, 1, 0, 2, 1, 3, 0, 0, 1, 3, 1, 0, 2, 2, 0, 3, 3, 0, 2, 2, 0, 3, 3, 3, 1, 2, 3, 1, 3, 3, 2, 0, 1, 2, 2, 1, 3, 3, 3, 3, 3, 0, 0, 0, 3, 1, 2, 0, 3, 3, 3, 0, 2, 3, 3, 2, 0, 3, 3, 3, 3, 3, 2, 2, 2, 2, 2, 3, 1, 2, 2, 3, 0, 2, 2, 3, 3, 3, 2, 3, 3, 0, 3, 2, 3, 3, 3, 2, 2, 0, 3, 3, 1, 2, 0, 3, 1, 1, 0, 0, 3, 3, 2, 0, 2, 3, 3, 1, 2, 0, 0, 0, 0, 3, 3, 3, 0, 2, 1, 3, 0, 1, 3, 1, 3, 1, 1, 0, 3, 3, 1, 0, 0, 0, 2, 2, 1, 3, 3, 3, 3, 0, 3, 2, 3, 3, 3, 2, 2, 1, 0, 0, 2, 1, 3, 3, 3, 2, 3, 0, 3, 2, 3, 3, 3, 3, 1, 2, 0, 2, 2, 3, 3, 1, 3, 3, 3, 3, 2, 1, 3, 2, 1, 2, 0, 1, 3, 2, 3, 3, 2, 2, 1, 0, 3, 2, 1, 3, 1, 2, 3, 3, 3, 1, 3, 3, 2, 2, 2, 3, 2, 1, 2, 2, 0, 0, 1, 2, 3, 3, 2, 1, 2, 3, 3, 3, 0, 0, 2, 3, 3, 3, 3, 3, 3, 1, 2, 3, 3, 3, 3, 3, 3, 0, 3, 3, 1, 3, 3, 3, 3, 0, 3, 3, 3, 3, 2, 2, 3, 2, 3, 0, 3, 3, 2, 3, 1, 3, 0, 2, 3, 3, 3, 2, 3, 3, 2, 1, 1, 0, 0, 3, 3, 3, 3, 0, 2, 2, 2, 3, 2, 3, 2, 3, 2, 3, 2, 0, 1, 2, 3, 1, 3, 1, 1, 0, 1, 3, 3, 0, 3, 0, 2, 1, 1, 0, 3, 0, 3, 0, 3, 3, 2, 3, 2, 3, 1, 3, 3, 3, 2, 2, 3, 3, 2, 3, 2, 0, 2, 3, 1, 3, 0, 3, 2, 0, 3, 1, 3, 3, 3, 0, 3, 3, 2, 2, 0, 2, 3, 3, 3, 0, 1, 0, 3, 3, 3, 2, 0, 3, 1, 3, 1, 0, 2, 3, 0, 2, 0, 0, 3, 2, 0, 2, 3, 2, 2, 3, 0, 3, 0, 3, 3, 0, 3, 3, 3, 2, 2, 2, 3, 3, 2, 2, 2, 0, 3, 2, 1, 0, 0, 0, 2, 3, 1, 3, 3, 2, 3, 2, 3, 3, 2, 2, 3, 3, 1, 3, 2, 3, 3, 3, 2, 3, 3, 2, 1, 2, 3, 2, 0, 3, 0, 3, 1, 2, 3, 1, 3, 1, 3, 1, 3, 1, 2, 0, 1, 2, 2, 0, 0, 0, 3, 3, 0, 2, 0, 3, 2, 3, 1, 3, 2, 2, 2, 1, 3, 3, 2, 0, 2, 0, 3, 0, 3, 3, 3, 3, 3, 3, 3, 0, 2, 3, 2, 3, 3, 2, 2, 0, 2, 0, 0, 3, 2, 3, 2, 2, 3, 2, 2, 3, 3, 2, 2, 3, 3, 1, 3, 1, 2, 3, 3, 1, 2, 0, 3, 0, 2, 3, 2, 2, 2, 3, 2, 3, 3, 1, 3, 0, 2, 0, 2, 1, 1, 3, 1, 2, 2, 1, 3, 0, 2, 0, 3, 3, 2, 1, 0, 0, 3, 3, 2, 2, 2, 3, 0, 2, 0, 0, 1, 1, 3, 2, 0, 2, 0, 0, 3, 2, 1, 0, 2, 0, 1, 3, 1, 1, 2, 0, 3, 2, 3, 0, 3, 2, 0, 2, 3, 1, 1, 2, 2, 2, 1, 2, 3, 3, 1, 3, 0, 3, 3, 0, 3, 2, 2, 0, 3, 0, 3, 0, 0, 2, 3, 1, 2, 1, 3, 0, 3, 2, 3, 2, 2, 0, 2, 3, 3, 2, 3, 2, 1, 3, 3, 3, 2, 3, 2, 0, 3, 3, 1, 2, 1, 3, 2, 2, 2, 2, 3, 2, 2, 3, 0, 3, 3, 1, 3, 0, 0, 0, 2, 2, 2, 0, 1, 2, 3, 0, 0, 2, 2, 1, 0, 1, 1, 2, 3, 2, 3, 0, 1, 1, 3, 3, 3, 2, 0, 3, 2, 2, 3, 0, 3, 3, 3, 0, 0, 3, 0, 2, 1, 1, 3, 2, 2, 3, 3, 2, 2, 3, 2, 0, 0, 3, 3, 3, 0, 2, 0, 3, 2, 3, 3, 3, 1, 2, 3, 2, 3, 1, 0, 1, 0, 2, 3, 3, 0, 1, 1, 2, 2, 0, 0, 0, 0, 3, 2, 0, 1, 1, 3, 3, 2, 3, 3, 3, 0, 2, 3, 0, 0, 3, 2, 3, 0, 1, 3, 3, 1, 0, 2, 2, 3, 0, 0, 3, 0, 2, 3, 3, 0, 1, 0, 0, 3, 2, 2, 3, 3, 0, 0, 0, 3, 3, 3, 2, 3, 0, 2, 3, 2, 0, 3, 0, 2, 3, 3, 2, 3, 2, 1, 2, 2, 3, 0, 3, 1, 1, 1, 3, 0, 3, 3, 3, 3, 3, 3, 2, 3, 3, 0, 3, 1, 3, 0, 3, 3, 2, 2, 2, 3, 2, 3, 3, 3, 3, 0, 2, 2, 2, 3, 0, 2, 3, 2, 0, 3, 2, 3, 3, 3, 1, 2, 3, 3, 3, 0, 3, 0, 3, 2, 2, 1, 1, 3, 3, 0, 0, 3, 3, 1, 1, 0, 3, 3, 3, 3, 1, 0, 3, 2, 3, 0, 2, 2, 3, 0, 3, 2, 1, 2, 3, 3, 0, 3, 0, 0, 1, 0, 2, 1, 2, 2, 1, 3, 3, 1, 2, 3, 2, 2, 0, 3, 2, 2, 3, 2, 1, 2, 1, 2, 1, 2, 3, 0, 0, 1, 2, 3, 3, 0, 2, 1, 3, 2, 2, 2, 3, 3, 0, 3, 3, 3, 0, 2, 1, 2, 3, 3, 3, 2, 1, 2, 1, 2, 1, 3, 0, 3, 2, 0, 3, 3, 0, 3, 2, 2, 0, 2, 2, 1, 3, 2, 2, 0, 3, 3, 3, 2, 3, 0, 3, 2, 2, 1, 0, 3, 3, 3, 1, 1, 2, 3, 0, 0, 2, 3, 1, 3, 2, 2, 2, 1, 2, 2, 0, 2, 1, 3, 2, 2, 3, 0, 1, 1, 0, 3, 0, 3, 2, 2, 2, 0, 3, 0, 0, 3, 2, 3, 1, 0, 0, 0, 3, 2, 3, 3, 2, 3, 2, 0, 2, 3, 0, 3, 3, 3, 2, 2, 3, 2, 3, 2, 0, 3, 3, 2, 3, 0, 3, 2, 3, 3, 1, 2, 3, 3, 0, 3, 0, 2, 3, 2, 2, 1, 2, 3, 0, 0, 0, 3, 2, 2, 2, 0, 1, 3, 0, 2, 2, 0, 3, 3, 0, 3, 3, 0, 0, 2, 3, 1, 1, 1, 1, 3, 2, 2, 3, 3, 3, 3, 0, 2, 1, 1, 3, 3, 2, 2, 0, 1, 0, 0, 1, 0, 3, 3, 1, 3, 1, 2, 1, 3, 2, 0, 3, 0, 2, 0, 3, 2, 3, 2, 3, 3, 0, 0, 0, 3, 3, 0, 0, 3, 0, 3, 2, 0, 2, 0, 1, 0, 3, 2, 0, 3, 3, 0, 3, 2, 0, 3, 3, 3, 2, 3, 0, 3, 2, 2, 1, 3, 2, 3, 3, 3, 1, 3, 3, 2, 0, 3, 1, 0, 3, 0, 1, 2, 2, 1, 1, 1, 3, 2, 0, 3, 0, 0, 3, 2, 3, 0, 0, 3, 0, 0, 3, 3, 3, 0, 3, 0, 3, 1, 3, 1, 3, 3, 3, 1, 2, 2, 2, 0, 3, 3, 0, 3, 2, 1, 1, 3, 3, 2, 1, 1, 3, 2, 3, 3, 3, 3, 0, 2, 2, 3, 3, 1, 2, 2, 2, 2, 1, 1, 3, 1, 0, 0, 3, 3, 2, 3, 2, 3, 3, 2, 0, 0, 3, 0, 1, 1, 0, 0, 2, 3, 0, 2, 3, 2, 2, 2, 2, 3, 0, 3, 3, 2, 0, 2, 2, 3, 3, 2, 1, 3, 1, 1, 2, 3, 0, 3, 2, 2, 2, 1, 3, 2, 3, 0, 3, 0, 3, 0, 3, 2, 0, 2, 1, 1, 3, 3, 3, 0, 3, 0, 1, 1, 2, 2, 0, 1, 2, 0, 3, 1, 2, 3, 0, 2, 3, 1, 0, 3, 0, 2, 2, 2, 3, 2, 3, 0, 3, 3, 1, 2, 3, 2, 1, 3, 3, 2, 2, 0, 0, 3, 2, 3, 1, 1, 2, 3, 2, 2, 2, 0, 0, 3, 3, 3, 3, 2, 2, 2, 2, 1, 2, 0, 3, 3, 3, 1, 2, 3, 3, 1, 2, 1, 3, 2, 2, 2, 3, 3, 3, 2, 3, 3, 1, 1, 2, 1, 1, 2, 0, 1, 0, 1, 2, 0, 0, 3, 3, 3, 1, 2, 3, 3, 2, 2, 0, 3, 3, 2, 3, 3, 3, 1, 1, 0, 3, 2, 0, 0, 3, 1, 2, 3, 3, 2, 0, 3, 3, 3, 2, 0, 0, 0, 0, 2, 3, 3, 1, 3, 2, 0, 3, 3, 3, 3, 0, 3, 2, 1, 2, 2, 2, 3, 3, 0, 3, 0, 3, 3, 0, 3, 2, 1, 3, 0, 3, 0, 3, 2, 1, 1, 1, 2, 2, 1, 3, 3, 3, 2, 3, 1, 3, 2, 3, 2, 0, 3, 1, 2, 3, 2, 3, 3, 2, 0, 0, 3, 0, 3, 1, 0, 0, 0, 0, 3, 3, 1, 3, 3, 0, 3, 3, 0, 1, 1, 2, 3, 2, 3, 2, 0, 2, 1, 0, 3, 2, 3, 3, 3, 2, 3, 2, 2, 3, 3, 3, 2, 3, 0, 0, 2, 3, 1, 3, 2, 2, 0, 2, 2, 0, 2, 2, 2, 3, 0, 0, 2, 2, 3, 2, 3, 3, 3, 1, 3, 1, 2, 2, 3, 3, 3, 3, 1, 1, 1, 0, 3, 0, 2, 0, 0, 3, 0, 3, 2, 1, 1, 3, 3, 2, 2, 1, 3, 0, 3, 0, 0, 1, 3, 0, 2, 2, 1, 1, 3, 3, 3, 0, 0, 2, 2, 2, 1, 3, 1, 3, 1, 3, 1, 2, 2, 2, 1, 3, 3, 3, 3, 2, 0, 2, 0, 2, 3, 1, 2, 0, 0, 3, 3, 2, 3, 3, 0, 3, 1, 3, 0, 0, 1, 0, 2, 2, 0, 3, 0, 2, 0, 2, 3, 3, 1, 2, 0, 2, 3, 1, 3, 2, 3, 1, 3, 3, 3, 3, 3, 1, 2, 3, 2, 2, 2, 2, 0, 2, 2, 3, 2, 0, 3, 2, 1, 0, 3, 2, 0, 2, 2, 3, 2, 2, 1, 2, 1, 2, 3, 2, 0, 1, 0, 1, 2, 3, 3, 3, 3, 3, 2, 2, 1, 1, 1, 1, 3, 1, 3, 3, 0, 0, 2, 3, 0, 2, 1, 1, 0, 2, 0, 1, 2, 3, 0, 3, 1, 0, 2, 2, 0, 3, 2, 0, 3, 1, 2, 3, 3, 2, 0, 0, 2, 0, 2, 0, 3, 1, 2, 3, 2, 3, 1, 2, 0, 2, 0, 3, 0, 3, 2, 0, 1, 1, 2, 3, 3, 0, 3, 3, 3, 3, 1, 1, 3, 0, 3, 3, 1, 1, 3, 2, 0, 3, 0, 1, 3, 3, 3, 3, 3, 3, 2, 2, 3, 3, 1, 3, 3, 3, 0, 3, 3, 2, 3, 3, 1, 3, 2, 3, 3, 3, 0, 3, 2, 1, 0, 3, 2, 0, 3, 2, 3, 2, 0, 1, 3, 1, 2, 0, 2, 1, 3, 3, 1, 0, 3, 3, 2, 2, 3, 2, 2, 3, 0, 3, 2, 0, 3, 3, 1, 1, 2, 2, 1, 2, 2, 2, 3, 2, 1, 3, 1, 2, 2, 3, 2, 2, 2, 1, 0, 3, 1, 2, 3, 3, 2, 3, 0, 3, 2, 2, 2, 1, 3, 3, 3, 3, 3, 2, 3, 2, 2, 1, 3, 2, 0, 3, 0, 2, 1, 2, 0, 0, 1, 2, 1, 1, 1, 2, 2, 0, 2, 2, 2, 2, 0, 3, 0, 0, 1, 0, 1, 2, 1, 2, 1, 0, 3, 1, 2, 2, 2, 3, 2, 3, 2, 0, 3, 3, 1, 1, 0, 2, 0, 0, 0, 2, 0, 1, 3, 2, 0, 3, 2, 0, 2, 2, 1, 3, 1, 3, 3, 0, 0, 0, 2, 1, 2, 0, 0, 0, 2, 2, 3, 0, 2, 2, 3, 2, 0, 3, 0, 3, 3, 1, 0, 2, 3, 3, 2, 1, 3, 3, 3, 1, 3, 2, 2, 1, 3, 2, 3, 3, 0, 2, 2, 2, 2, 3, 3, 3, 3, 2, 0, 0, 3, 2, 3, 3, 3, 3, 1, 3, 3, 0, 0, 0, 3, 3, 2, 2, 2, 3, 3, 2, 3, 1, 0, 3, 1, 0, 1, 3, 3, 3, 3, 3, 1, 1, 3, 0, 1, 1, 0, 1, 3, 1, 0, 3, 3, 2, 2, 0, 2, 2, 3, 3, 1, 3, 2, 1, 3, 3, 3, 3, 1, 0, 3, 2, 2, 3, 2, 2, 3, 0, 0, 1, 2, 1, 3, 2, 3, 1, 0, 2, 0, 3, 2, 2, 0, 2, 3, 3, 1, 3, 1, 0, 2, 3, 3, 3, 0, 2, 2, 2, 3, 2, 1, 2, 3, 0, 2, 3, 2, 3, 3, 2, 3, 3, 2, 3, 1, 2, 3, 3, 3, 2, 3, 2, 0, 2, 0, 2, 3, 2, 0, 0, 2, 0, 1, 1, 3, 3, 2, 3, 1, 3, 3, 2, 3, 2, 1, 3, 3, 3, 2, 2, 1, 3, 0, 2, 3, 2, 3, 0, 0, 1, 2, 1, 3, 0, 2, 3, 3, 0, 2, 2, 0, 0, 1, 0, 1, 3, 3, 0, 3, 3, 0, 1, 0, 2, 3, 1, 3, 2, 2, 2, 3, 0, 2, 3, 3, 3, 3, 2, 2, 3, 0, 2, 3, 3, 1, 3, 0, 3, 3, 3, 0, 3, 1, 3, 2, 3, 1, 3, 3, 3, 3, 3, 3, 0, 2, 3, 0, 3, 3, 3, 0, 0, 0, 2, 2, 2, 2, 2, 0, 0, 3, 3, 2, 3, 1, 0, 2, 0, 3, 3, 0, 3, 1, 2, 3, 3, 3, 3, 3, 3, 2, 0, 3, 0, 3, 1, 3, 2, 2, 2, 0, 1, 1, 0, 0, 2, 0, 3, 0, 1, 1, 3, 3, 2, 3, 3, 1, 1, 3, 0, 0, 1, 0, 2, 3, 2, 3, 3, 0, 0, 3, 1, 3, 0, 0, 1, 0, 0, 3, 3, 3, 1, 1, 1, 2, 2, 2, 0, 3, 2, 1, 3, 3, 3, 0, 0, 3, 3, 3, 3, 3, 2, 1, 3, 3, 2, 3, 0, 0, 3, 2, 2, 3, 2, 2, 3, 3, 3, 2, 0, 3, 3, 1, 3, 0, 1, 2, 3, 3, 2, 2, 0, 2, 2, 2, 0, 3, 3, 3, 3, 0, 0, 3, 3, 3, 3, 1, 3, 2, 3, 3, 3, 3, 3, 3, 1, 3, 0, 3, 3, 2, 2, 2, 2, 3, 0, 3, 3, 3, 3, 3, 0, 2, 0, 2, 3, 1, 0, 0, 0, 3, 0, 1, 0, 3, 1, 2, 1, 0, 2, 1, 2, 0, 1, 1, 2, 1, 3, 2, 2, 1, 3, 0, 0, 1, 1, 2, 3, 0, 3, 2, 3, 1, 2, 3, 3, 3, 0, 3, 2, 3, 2, 3, 1, 3, 0, 1, 1, 2, 2, 3, 1, 3, 3, 3, 3, 3, 2, 0, 2, 3, 3, 1, 2, 0, 2, 3, 3, 3, 0, 0, 0, 3, 1, 3, 2, 3, 3, 3, 3, 0, 3, 0, 1, 2, 3, 2, 1, 3, 2, 2, 2, 2, 1, 0, 2, 2, 1, 2, 3, 2, 3, 3, 0, 1, 2, 1, 3, 2, 1, 0, 2, 2, 0, 2, 3, 0, 3, 3, 3, 0, 2, 3, 2, 2, 3, 0, 2, 2, 3, 3, 3, 0, 2, 0, 1, 2, 2, 2, 3, 0, 3, 3, 2, 2, 3, 3, 3, 1, 2, 2, 2, 3, 1, 1, 0, 2, 2, 2, 2, 0, 3, 3, 3, 2, 3, 3, 2, 3, 1, 0, 3, 0, 0, 2, 1, 2, 0, 0, 2, 0, 0, 3, 3, 2, 3, 3, 3, 2, 0, 2, 2, 3, 3, 2, 2, 3, 1, 3, 1, 1, 2, 2, 0, 1, 1, 2, 0, 3, 0, 3, 3, 2, 1, 3, 3, 3, 0, 2, 1, 3, 2, 1, 2, 2, 1, 1, 3, 3, 3, 0, 0, 3, 1, 3, 1, 3, 0, 0, 3, 1, 1, 3, 2, 1, 0, 2, 0, 1, 0, 0, 1, 3, 3, 3, 2, 1, 3, 1, 3, 0, 3, 1, 3, 3, 3, 3, 3, 2, 2, 2, 2, 3, 3, 1, 1, 0, 0, 2, 0, 2, 0, 0, 2, 0, 1, 2, 3, 3, 2, 2, 3, 0, 3, 3, 1, 2, 3, 1, 0, 2, 3, 1, 2, 2, 2, 2, 2, 3, 0, 2, 3, 3, 3, 2, 2, 1, 2, 3, 0, 2, 2, 2, 3, 3, 3, 3, 2, 3, 1, 3, 3, 3, 1, 3, 2, 0, 3, 0, 0, 1, 3, 3, 3, 3, 2, 0, 1, 3, 3, 3, 1, 3, 3, 3, 0, 3, 1, 2, 2, 3, 0, 3, 3, 1, 3, 0, 3, 3, 3, 3, 2, 1, 1, 2, 3, 2, 3, 2, 1, 2, 1, 2, 3, 0, 2, 2, 3, 2, 3, 0, 3, 0, 1, 3, 3, 3, 3, 2, 3, 3, 1, 3, 3, 3, 2, 2, 2, 3, 2, 3, 3, 3, 1, 0, 3, 3, 1, 3, 0, 2, 0, 0, 3, 0, 3, 2, 3, 1, 1, 3, 2, 3, 0, 3, 3, 3, 3, 0, 3, 3, 2, 3, 2, 2, 3, 1, 3, 3, 2, 0, 1, 3, 1, 3, 3, 1, 2, 3, 3, 2, 0, 2, 2, 2, 3, 2, 3, 3, 2, 2, 3, 1, 1, 2, 1, 3, 3, 2, 0, 3, 0, 0, 3, 3, 3, 3, 3, 0, 2, 3, 2, 1, 2, 2, 2, 0, 0, 3, 3, 3, 3, 0, 2, 1, 0, 3, 3, 1, 0, 1, 0, 0, 0, 3, 2, 0, 1, 1, 2, 0, 2, 3, 2, 3, 3, 2, 0, 0, 0, 1, 1, 3, 0, 3, 0, 1, 2, 3, 2, 3, 3, 3, 1, 1, 3, 2, 2, 0, 3, 1, 0, 2, 3, 3, 0, 3, 2, 2, 0, 3, 1, 3, 2, 1, 2, 3, 3, 2, 2, 3, 2, 2, 2, 0, 1, 2, 0, 0, 3, 3, 3, 0, 0, 2, 3, 2, 3, 3, 2, 3, 3, 2, 3, 3, 1, 3, 1, 1, 3, 3, 2, 3, 3, 0, 2, 3, 3, 1, 0, 2, 0, 0, 2, 3, 1, 3, 2, 3, 2, 0, 2, 2, 2, 2, 3, 3, 2, 3, 2, 3, 1, 2, 0, 3, 2, 3, 0, 0, 2, 1, 3, 3, 2, 2, 1, 0, 3, 0, 3, 3, 3, 3, 2, 3, 3, 1, 3, 3, 3, 3, 3, 0, 2, 3, 3, 3, 3, 3, 3, 0, 1, 3, 3, 3, 3, 0, 2, 3, 2, 3, 2, 1, 3, 3, 1, 3, 2, 1, 3, 0, 0, 0, 1, 3, 2, 3, 2, 2, 0, 3, 3, 2, 1, 0, 3, 3, 3, 2, 3, 3, 3, 3, 2, 0, 0, 3, 0, 3, 3, 3, 0, 3, 3, 3, 2, 0, 3, 0, 3, 3, 3, 2, 3, 2, 0, 0, 3, 2, 0, 2, 3, 2, 0, 0, 0, 3, 1, 0, 0, 3, 3, 0, 2, 2, 0, 0, 3, 0, 0]\n"
     ]
    }
   ],
   "source": [
    "print(\"Label    :\", gtlabel[:35])\n",
    "print(\"Predicted:\", pred)"
   ]
  },
  {
   "cell_type": "code",
   "execution_count": 59,
   "metadata": {},
   "outputs": [
    {
     "name": "stdout",
     "output_type": "stream",
     "text": [
      "Image Label:  3\n",
      "Image Name:  100002\n"
     ]
    },
    {
     "data": {
      "image/png": "[encoded data removed]",
      "text/plain": [
       "<Figure size 432x288 with 1 Axes>"
      ]
     },
     "metadata": {},
     "output_type": "display_data"
    }
   ],
   "source": [
    "sample_number = 2\n",
    "plt.imshow(img_data[sample_number].reshape(64,64), cmap=\"gray_r\")\n",
    "plt.axis('off')\n",
    "\n",
    "img_gt, img_pred = gtlabel[sample_number], pred[sample_number]\n",
    "print(\"Image Label: \", img_pred)\n",
    "\n",
    "print(\"Image Name: \", image_names[sample_number])"
   ]
  },
  {
   "cell_type": "code",
   "execution_count": 60,
   "metadata": {},
   "outputs": [],
   "source": [
    "pred_ = np.array(pred)\n",
    "image_names_ = np.array(image_names)"
   ]
  },
  {
   "cell_type": "code",
   "execution_count": 61,
   "metadata": {},
   "outputs": [
    {
     "name": "stdout",
     "output_type": "stream",
     "text": [
      "(20000,)\n",
      "(20000,)\n"
     ]
    }
   ],
   "source": [
    "print(pred_.shape)\n",
    "print(image_names_.shape)"
   ]
  },
  {
   "cell_type": "code",
   "execution_count": 62,
   "metadata": {},
   "outputs": [],
   "source": [
    "composite = np.column_stack((image_names_, pred_))"
   ]
  },
  {
   "cell_type": "code",
   "execution_count": 63,
   "metadata": {},
   "outputs": [
    {
     "name": "stdout",
     "output_type": "stream",
     "text": [
      "(20000, 2)\n",
      "[['100000' '3']\n",
      " ['100001' '3']\n",
      " ['100002' '3']\n",
      " ...\n",
      " ['119997' '3']\n",
      " ['119998' '0']\n",
      " ['119999' '0']]\n"
     ]
    }
   ],
   "source": [
    "print(composite.shape)\n",
    "print(composite[:,:40])"
   ]
  },
  {
   "cell_type": "code",
   "execution_count": 64,
   "metadata": {},
   "outputs": [],
   "source": [
    "import pandas as pd\n",
    "x = pd.DataFrame(composite, columns = ['id','orientation'])"
   ]
  },
  {
   "cell_type": "code",
   "execution_count": 65,
   "metadata": {},
   "outputs": [],
   "source": [
    "x.to_csv('C:/data-release/Predictions.csv', header = True, index = False)"
   ]
  },
  {
   "cell_type": "code",
   "execution_count": null,
   "metadata": {},
   "outputs": [],
   "source": [
    "#You can save it with the above code or this.\n",
    "np.savetxt('C:/AIFolder/Submit/AISubmit.csv',  x.astype(int), delimiter=',', header = 'id,orientation')"
   ]
  }
 ],
 "metadata": {
  "kernelspec": {
   "display_name": "Python 3",
   "language": "python",
   "name": "python3"
  },
  "language_info": {
   "codemirror_mode": {
    "name": "ipython",
    "version": 3
   },
   "file_extension": ".py",
   "mimetype": "text/x-python",
   "name": "python",
   "nbconvert_exporter": "python",
   "pygments_lexer": "ipython3",
   "version": "3.6.6"
  }
 },
 "nbformat": 4,
 "nbformat_minor": 2
}
